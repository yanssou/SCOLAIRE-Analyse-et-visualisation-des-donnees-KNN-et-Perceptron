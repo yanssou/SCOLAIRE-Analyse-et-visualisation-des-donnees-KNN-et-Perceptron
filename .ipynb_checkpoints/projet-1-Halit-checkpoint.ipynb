{
 "cells": [
  {
   "cell_type": "markdown",
   "metadata": {},
   "source": [
    "IA & Data science (LU3IN0226) -- 2021-2022\n",
    "--------\n",
    "*&copy; Equipe pédagogique: Vincent Guigue, Christophe Marsala, Olivier Schwander.*"
   ]
  },
  {
   "cell_type": "markdown",
   "metadata": {},
   "source": [
    "<font size=\"+1\" color=\"RED\"><b>[Q]</b></font> <font size=\"+1\"><b>Indiquer dans la boîte ci-dessous vos noms et prénoms :</b></font>"
   ]
  },
  {
   "cell_type": "markdown",
   "metadata": {},
   "source": [
    "HALIT Yanis"
   ]
  },
  {
   "cell_type": "markdown",
   "metadata": {},
   "source": [
    "Ce projet peut être fait (c'est même recommandé) en binôme. Le nom de chaque membre du binôme doit être indiqué, et un seul rendu sur un des deux comptes Moodle doit être fait.\n",
    "\n",
    "Les groupes de plus de 2 personnes ne sont pas autorisés."
   ]
  },
  {
   "cell_type": "markdown",
   "metadata": {},
   "source": [
    "<font color=\"RED\" size=\"+1\"><b>[Q]</b></font> **Renommer ce fichier ipython**\n",
    "\n",
    "Tout en haut de cette page, cliquer sur <tt>projet-1</tt> et rajouter à la suite de <tt>projet-1</tt> les noms des membres du binômes séparés par un tiret.\n",
    "\n",
    "<font color=\"RED\" size=\"+1\">IMPORTANT: soumission de votre fichier final</font>\n",
    "\n",
    "**Nom à donner au notebook** : *projet-1-Nom1_Nom2.ipynb* \n",
    "- *Nom1* et *Nom2* : noms des membres du binôme\n",
    "\n",
    "**Le compte-rendu doit être rendu sur la page Moodle.**"
   ]
  },
  {
   "cell_type": "markdown",
   "metadata": {},
   "source": [
    "# Projet 1 - mars 2022\n",
    "\n",
    "\n",
    "<font size=\"+1\" color=\"RED\"><b>Date de rendu : vendredi 25 mars, 18h au plus tard</b></font>\n",
    "<br />\n",
    "\n",
    "\n",
    "Vous devez compléter ce notebook en rajoutant vos expérimentations avec vos algorithmes d'apprentissage sur:\n",
    "- les données Bases_IADS : cela correspond à un problème de classification binaire\n",
    "- les données Bases_IADS_multiclasses : cela correspond à un problème de classification multiclasses\n",
    "\n",
    "Très important : les fichiers de données doivent être placés de façon à respecter la structure de fichiers suivantes:\n",
    "\n",
    "          -- ce_notebook.ipynb\n",
    "          -- Bases_IADS/ \n",
    "              -- README.txt\n",
    "              -- train.csv\n",
    "              -- test.csv\n",
    "              -- eval.csv\n",
    "              -- names.csv\n",
    "          -- Bases_IADS_multiclasses/\n",
    "              -- README.txt\n",
    "              -- train_multi.csv\n",
    "              -- test_multi.csv\n",
    "              -- eval_multi.csv\n",
    "              -- names_multi.csv\n",
    "\n",
    "Dans le notebook, le chargement des fichiers de données considèrera donc cette arborescence.\n",
    "\n",
    "\n",
    "Les fichiers de chaque répertoire correspondent à:\n",
    "- fichier README.txt : donne des explications sur le contenu du répertoire\n",
    "- fichier train*.csv : base d'apprentissage à utiliser pour construire le classfieur\n",
    "- fichier test*.csv : base de test pour évaluer vous même le classifieur construit. Les exemples de ce fichier NE DOIVENT PAS être utilisés pour l'apprentissage du classifieur.\n",
    "- fichier eval*.csv : fichier d'évaluation du classifieur (voir ci-dessous).\n",
    "\n",
    "## Travail à faire\n",
    "\n",
    "Pour chaque ensemble de données:\n",
    "- les 2 algorithmes d'apprentissage knn et perceptron doivent être expérimentés et comparés (ATTENTION: on ne veut que des algorithmes que vous avez implémentés vous-même dans cette UE).\n",
    "- des résultats d'expérimentations pourront être : comparaison des taux de bonne classification apprentissage / test (avec validation croisée), visualisation, etc.\n",
    "- de plus, un fichier `eval.csv` est fourni. Ce fichier contient des descriptions associées à un \"faux\" label. Dans votre compte-rendu, vous devez fournir un fichier CSV qui donne, pour chaque exemple du fichier `eval.csv`la classe trouvée par votre meilleur classifieur. Ainsi, le fichier CSV à rendre doit comporter 2 colonnes et autant de lignes que d'exemples (une ligne par exemple du fichier eval):<br>\n",
    "            IDENTIFIANT;CLASSE_TROUVEE_POUR_CET_EXEMPLE\n",
    "            ...\n",
    "Le résultat de classification vous sera donné en retour (nous connaissons la vraie classe des exemples de ce fichier...).\n",
    "\n",
    "Vos **expérimentations doivent être expliquées** (utilisez des boîtes Markdown pour saisir vos explications):\n",
    "- une argumentation du type *\"pourquoi vous avez fait cette expérimentation\"* doit être fournie;\n",
    "- une analyse succincte du résultat fourni doit être aussi donnée.\n",
    "\n",
    "\n",
    "Par exemple (indicatif): choix de $k$ pour le knn:\n",
    "- argumentation : pour décider quelle peut être la valeur de $k$ optimale, on décide de tester plusieurs valeurs différentes et de comparer les taux de bonne classification sur la base de test obtenus.\n",
    "- analyse du résultat: on remarque que la valeur $k$ suivante fournie le meilleur résultat.\n",
    "\n",
    "\n",
    "\n",
    "## Travail à rendre\n",
    "Ce qui doit être rendu : un fichier archive (`.tar`, `.tgz`, ou `.zip` uniquement)\n",
    "- ce notebook, dans lequel vous avez reporté toutes les fonctions que vous utilisez : ce notebook doit pouvoir être exécuté sans autre apport (pensez à vous en assurer avant de le rendre). Les fichiers de données ne doivent pas être inclus dans votre archive !\n",
    "- un fichier CSV dont le nom est de la forme: *projet-1-Nom1_Nom2.csv* (sur le modèle du nom du notebook) qui donne la classe de chaque exemple du fichier `eval.csv` trouvée par votre classifieur.\n",
    "\n",
    "\n",
    "**Remarque**: en considérant que les algorithmes knn et perceptron ont été réalisés lors des séances de TME 1 à 6, le travail demandé pour ce projet correspond à, au plus, une séance complète de TME."
   ]
  },
  {
   "cell_type": "markdown",
   "metadata": {},
   "source": [
    "Les imports suivants sont nécessaires:"
   ]
  },
  {
   "cell_type": "code",
   "execution_count": 2,
   "metadata": {},
   "outputs": [
    {
     "ename": "ModuleNotFoundError",
     "evalue": "No module named 'iads'",
     "output_type": "error",
     "traceback": [
      "\u001b[0;31m---------------------------------------------------------------------------\u001b[0m",
      "\u001b[0;31mModuleNotFoundError\u001b[0m                       Traceback (most recent call last)",
      "Input \u001b[0;32mIn [2]\u001b[0m, in \u001b[0;36m<cell line: 16>\u001b[0;34m()\u001b[0m\n\u001b[1;32m     13\u001b[0m sys\u001b[38;5;241m.\u001b[39mpath\u001b[38;5;241m.\u001b[39mappend(\u001b[38;5;124m'\u001b[39m\u001b[38;5;124m../\u001b[39m\u001b[38;5;124m'\u001b[39m)   \u001b[38;5;66;03m# iads doit être dans le répertoire père du répertoire courant !\u001b[39;00m\n\u001b[1;32m     15\u001b[0m \u001b[38;5;66;03m# Importation de la librairie iads\u001b[39;00m\n\u001b[0;32m---> 16\u001b[0m \u001b[38;5;28;01mimport\u001b[39;00m \u001b[38;5;21;01miads\u001b[39;00m \u001b[38;5;28;01mas\u001b[39;00m \u001b[38;5;21;01miads\u001b[39;00m\n\u001b[1;32m     18\u001b[0m \u001b[38;5;66;03m# importation de Classifiers\u001b[39;00m\n\u001b[1;32m     19\u001b[0m \u001b[38;5;28;01mfrom\u001b[39;00m \u001b[38;5;21;01miads\u001b[39;00m \u001b[38;5;28;01mimport\u001b[39;00m Classifiers \u001b[38;5;28;01mas\u001b[39;00m classif\n",
      "\u001b[0;31mModuleNotFoundError\u001b[0m: No module named 'iads'"
     ]
    }
   ],
   "source": [
    "import numpy as np\n",
    "import pandas as pd\n",
    "from tqdm import tqdm # qui sera utilisé afin d'estimer le temps d'execution de nos boucles selon le perceptron utilisé\n",
    "import matplotlib.pyplot as plt\n",
    "%matplotlib inline  \n",
    "import random\n",
    "import math\n",
    "import pickle as pkl\n",
    "\n",
    "# Importation de votre librairie iads:\n",
    "# La ligne suivante permet de préciser le chemin d'accès à la librairie iads\n",
    "import sys\n",
    "sys.path.append('../')   # iads doit être dans le répertoire père du répertoire courant !\n",
    "\n",
    "# Importation de la librairie iads\n",
    "import iads as iads\n",
    "\n",
    "# importation de Classifiers\n",
    "from iads import Classifiers as classif\n",
    "\n",
    "# importation de utils\n",
    "from iads import utils as ut\n",
    "\n",
    "# importation de evaluation \n",
    "from iads import evaluation as eva\n",
    "\n",
    "\n",
    "# Les instructions suivantes sont TRES utiles pour recharger automatiquement\n",
    "# le code modifié dans les librairies externes\n",
    "%load_ext autoreload\n",
    "%autoreload 2"
   ]
  },
  {
   "cell_type": "markdown",
   "metadata": {},
   "source": [
    "# Chargement des fichiers de données"
   ]
  },
  {
   "cell_type": "markdown",
   "metadata": {},
   "source": [
    "### Nom des colonnes de chaque Df "
   ]
  },
  {
   "cell_type": "code",
   "execution_count": 3,
   "metadata": {},
   "outputs": [],
   "source": [
    "name_bin_df = pd.read_csv(\"Bases_IADS/names.csv\", sep = \";\", header = 0)\n",
    "name_bin = [nom for nom in name_bin_df.columns]\n",
    "\n",
    "name_mult_df = pd.read_csv(\"Bases_IADS_multiclasses/names_multi.csv\", sep = \";\", header = 0)\n",
    "name_mult = [nom for nom in name_mult_df.columns]"
   ]
  },
  {
   "cell_type": "markdown",
   "metadata": {},
   "source": [
    "### Chargement des Dataframes train et test "
   ]
  },
  {
   "cell_type": "code",
   "execution_count": 4,
   "metadata": {},
   "outputs": [],
   "source": [
    "# Pour la classification binaire : \n",
    "train_bin_df = pd.read_csv(\"Bases_IADS/train.csv\", sep=\";\", header=None)\n",
    "test_bin_df = pd.read_csv(\"Bases_IADS/test.csv\", sep=\";\", header=None)\n",
    "    \n",
    "# Pour la classification multiclasses : \n",
    "train_mult_df = pd.read_csv(\"Bases_IADS_multiclasses/train_multi.csv\", sep=\";\", header=None)\n",
    "test_mult_df = pd.read_csv(\"Bases_IADS_multiclasses/test_multi.csv\", sep=\";\", header=None)"
   ]
  },
  {
   "cell_type": "code",
   "execution_count": 5,
   "metadata": {},
   "outputs": [],
   "source": [
    "# Ajout des noms de colonnes\n",
    "train_bin_df.columns = name_bin\n",
    "test_bin_df.columns = name_bin\n",
    "\n",
    "train_mult_df.columns = name_mult\n",
    "test_mult_df.columns = name_mult"
   ]
  },
  {
   "cell_type": "code",
   "execution_count": 6,
   "metadata": {},
   "outputs": [
    {
     "data": {
      "text/html": [
       "<div>\n",
       "<style scoped>\n",
       "    .dataframe tbody tr th:only-of-type {\n",
       "        vertical-align: middle;\n",
       "    }\n",
       "\n",
       "    .dataframe tbody tr th {\n",
       "        vertical-align: top;\n",
       "    }\n",
       "\n",
       "    .dataframe thead th {\n",
       "        text-align: right;\n",
       "    }\n",
       "</style>\n",
       "<table border=\"1\" class=\"dataframe\">\n",
       "  <thead>\n",
       "    <tr style=\"text-align: right;\">\n",
       "      <th></th>\n",
       "      <th>ident</th>\n",
       "      <th>A001</th>\n",
       "      <th>A002</th>\n",
       "      <th>A003</th>\n",
       "      <th>A004</th>\n",
       "      <th>A005</th>\n",
       "      <th>A006</th>\n",
       "      <th>A007</th>\n",
       "      <th>A008</th>\n",
       "      <th>A009</th>\n",
       "      <th>...</th>\n",
       "      <th>A776</th>\n",
       "      <th>A777</th>\n",
       "      <th>A778</th>\n",
       "      <th>A779</th>\n",
       "      <th>A780</th>\n",
       "      <th>A781</th>\n",
       "      <th>A782</th>\n",
       "      <th>A783</th>\n",
       "      <th>A784</th>\n",
       "      <th>label</th>\n",
       "    </tr>\n",
       "  </thead>\n",
       "  <tbody>\n",
       "    <tr>\n",
       "      <th>0</th>\n",
       "      <td>10001</td>\n",
       "      <td>0</td>\n",
       "      <td>0</td>\n",
       "      <td>0</td>\n",
       "      <td>0</td>\n",
       "      <td>0</td>\n",
       "      <td>0</td>\n",
       "      <td>0</td>\n",
       "      <td>0</td>\n",
       "      <td>0</td>\n",
       "      <td>...</td>\n",
       "      <td>0</td>\n",
       "      <td>0</td>\n",
       "      <td>0</td>\n",
       "      <td>0</td>\n",
       "      <td>0</td>\n",
       "      <td>0</td>\n",
       "      <td>0</td>\n",
       "      <td>0</td>\n",
       "      <td>0</td>\n",
       "      <td>-1</td>\n",
       "    </tr>\n",
       "    <tr>\n",
       "      <th>1</th>\n",
       "      <td>10002</td>\n",
       "      <td>0</td>\n",
       "      <td>0</td>\n",
       "      <td>0</td>\n",
       "      <td>0</td>\n",
       "      <td>0</td>\n",
       "      <td>0</td>\n",
       "      <td>0</td>\n",
       "      <td>0</td>\n",
       "      <td>0</td>\n",
       "      <td>...</td>\n",
       "      <td>0</td>\n",
       "      <td>0</td>\n",
       "      <td>0</td>\n",
       "      <td>0</td>\n",
       "      <td>0</td>\n",
       "      <td>0</td>\n",
       "      <td>0</td>\n",
       "      <td>0</td>\n",
       "      <td>0</td>\n",
       "      <td>-1</td>\n",
       "    </tr>\n",
       "    <tr>\n",
       "      <th>2</th>\n",
       "      <td>10003</td>\n",
       "      <td>0</td>\n",
       "      <td>0</td>\n",
       "      <td>0</td>\n",
       "      <td>0</td>\n",
       "      <td>0</td>\n",
       "      <td>0</td>\n",
       "      <td>0</td>\n",
       "      <td>0</td>\n",
       "      <td>0</td>\n",
       "      <td>...</td>\n",
       "      <td>0</td>\n",
       "      <td>0</td>\n",
       "      <td>0</td>\n",
       "      <td>0</td>\n",
       "      <td>0</td>\n",
       "      <td>0</td>\n",
       "      <td>0</td>\n",
       "      <td>0</td>\n",
       "      <td>0</td>\n",
       "      <td>-1</td>\n",
       "    </tr>\n",
       "    <tr>\n",
       "      <th>3</th>\n",
       "      <td>10004</td>\n",
       "      <td>0</td>\n",
       "      <td>0</td>\n",
       "      <td>0</td>\n",
       "      <td>0</td>\n",
       "      <td>0</td>\n",
       "      <td>0</td>\n",
       "      <td>0</td>\n",
       "      <td>0</td>\n",
       "      <td>0</td>\n",
       "      <td>...</td>\n",
       "      <td>0</td>\n",
       "      <td>0</td>\n",
       "      <td>0</td>\n",
       "      <td>0</td>\n",
       "      <td>0</td>\n",
       "      <td>0</td>\n",
       "      <td>0</td>\n",
       "      <td>0</td>\n",
       "      <td>0</td>\n",
       "      <td>-1</td>\n",
       "    </tr>\n",
       "    <tr>\n",
       "      <th>4</th>\n",
       "      <td>10005</td>\n",
       "      <td>0</td>\n",
       "      <td>0</td>\n",
       "      <td>0</td>\n",
       "      <td>0</td>\n",
       "      <td>0</td>\n",
       "      <td>0</td>\n",
       "      <td>0</td>\n",
       "      <td>0</td>\n",
       "      <td>0</td>\n",
       "      <td>...</td>\n",
       "      <td>0</td>\n",
       "      <td>0</td>\n",
       "      <td>0</td>\n",
       "      <td>0</td>\n",
       "      <td>0</td>\n",
       "      <td>0</td>\n",
       "      <td>0</td>\n",
       "      <td>0</td>\n",
       "      <td>0</td>\n",
       "      <td>-1</td>\n",
       "    </tr>\n",
       "    <tr>\n",
       "      <th>...</th>\n",
       "      <td>...</td>\n",
       "      <td>...</td>\n",
       "      <td>...</td>\n",
       "      <td>...</td>\n",
       "      <td>...</td>\n",
       "      <td>...</td>\n",
       "      <td>...</td>\n",
       "      <td>...</td>\n",
       "      <td>...</td>\n",
       "      <td>...</td>\n",
       "      <td>...</td>\n",
       "      <td>...</td>\n",
       "      <td>...</td>\n",
       "      <td>...</td>\n",
       "      <td>...</td>\n",
       "      <td>...</td>\n",
       "      <td>...</td>\n",
       "      <td>...</td>\n",
       "      <td>...</td>\n",
       "      <td>...</td>\n",
       "      <td>...</td>\n",
       "    </tr>\n",
       "    <tr>\n",
       "      <th>995</th>\n",
       "      <td>10996</td>\n",
       "      <td>0</td>\n",
       "      <td>0</td>\n",
       "      <td>0</td>\n",
       "      <td>0</td>\n",
       "      <td>0</td>\n",
       "      <td>0</td>\n",
       "      <td>0</td>\n",
       "      <td>0</td>\n",
       "      <td>0</td>\n",
       "      <td>...</td>\n",
       "      <td>0</td>\n",
       "      <td>0</td>\n",
       "      <td>0</td>\n",
       "      <td>0</td>\n",
       "      <td>0</td>\n",
       "      <td>0</td>\n",
       "      <td>0</td>\n",
       "      <td>0</td>\n",
       "      <td>0</td>\n",
       "      <td>1</td>\n",
       "    </tr>\n",
       "    <tr>\n",
       "      <th>996</th>\n",
       "      <td>10997</td>\n",
       "      <td>0</td>\n",
       "      <td>0</td>\n",
       "      <td>0</td>\n",
       "      <td>0</td>\n",
       "      <td>0</td>\n",
       "      <td>0</td>\n",
       "      <td>0</td>\n",
       "      <td>0</td>\n",
       "      <td>0</td>\n",
       "      <td>...</td>\n",
       "      <td>0</td>\n",
       "      <td>0</td>\n",
       "      <td>0</td>\n",
       "      <td>0</td>\n",
       "      <td>0</td>\n",
       "      <td>0</td>\n",
       "      <td>0</td>\n",
       "      <td>0</td>\n",
       "      <td>0</td>\n",
       "      <td>1</td>\n",
       "    </tr>\n",
       "    <tr>\n",
       "      <th>997</th>\n",
       "      <td>10998</td>\n",
       "      <td>0</td>\n",
       "      <td>0</td>\n",
       "      <td>0</td>\n",
       "      <td>0</td>\n",
       "      <td>0</td>\n",
       "      <td>0</td>\n",
       "      <td>0</td>\n",
       "      <td>0</td>\n",
       "      <td>0</td>\n",
       "      <td>...</td>\n",
       "      <td>0</td>\n",
       "      <td>0</td>\n",
       "      <td>0</td>\n",
       "      <td>0</td>\n",
       "      <td>0</td>\n",
       "      <td>0</td>\n",
       "      <td>0</td>\n",
       "      <td>0</td>\n",
       "      <td>0</td>\n",
       "      <td>1</td>\n",
       "    </tr>\n",
       "    <tr>\n",
       "      <th>998</th>\n",
       "      <td>10999</td>\n",
       "      <td>0</td>\n",
       "      <td>0</td>\n",
       "      <td>0</td>\n",
       "      <td>0</td>\n",
       "      <td>0</td>\n",
       "      <td>0</td>\n",
       "      <td>0</td>\n",
       "      <td>0</td>\n",
       "      <td>0</td>\n",
       "      <td>...</td>\n",
       "      <td>0</td>\n",
       "      <td>0</td>\n",
       "      <td>0</td>\n",
       "      <td>0</td>\n",
       "      <td>0</td>\n",
       "      <td>0</td>\n",
       "      <td>0</td>\n",
       "      <td>0</td>\n",
       "      <td>0</td>\n",
       "      <td>1</td>\n",
       "    </tr>\n",
       "    <tr>\n",
       "      <th>999</th>\n",
       "      <td>11000</td>\n",
       "      <td>0</td>\n",
       "      <td>0</td>\n",
       "      <td>0</td>\n",
       "      <td>0</td>\n",
       "      <td>0</td>\n",
       "      <td>0</td>\n",
       "      <td>0</td>\n",
       "      <td>0</td>\n",
       "      <td>0</td>\n",
       "      <td>...</td>\n",
       "      <td>0</td>\n",
       "      <td>0</td>\n",
       "      <td>0</td>\n",
       "      <td>0</td>\n",
       "      <td>0</td>\n",
       "      <td>0</td>\n",
       "      <td>0</td>\n",
       "      <td>0</td>\n",
       "      <td>0</td>\n",
       "      <td>1</td>\n",
       "    </tr>\n",
       "  </tbody>\n",
       "</table>\n",
       "<p>1000 rows × 786 columns</p>\n",
       "</div>"
      ],
      "text/plain": [
       "     ident  A001  A002  A003  A004  A005  A006  A007  A008  A009  ...  A776  \\\n",
       "0    10001     0     0     0     0     0     0     0     0     0  ...     0   \n",
       "1    10002     0     0     0     0     0     0     0     0     0  ...     0   \n",
       "2    10003     0     0     0     0     0     0     0     0     0  ...     0   \n",
       "3    10004     0     0     0     0     0     0     0     0     0  ...     0   \n",
       "4    10005     0     0     0     0     0     0     0     0     0  ...     0   \n",
       "..     ...   ...   ...   ...   ...   ...   ...   ...   ...   ...  ...   ...   \n",
       "995  10996     0     0     0     0     0     0     0     0     0  ...     0   \n",
       "996  10997     0     0     0     0     0     0     0     0     0  ...     0   \n",
       "997  10998     0     0     0     0     0     0     0     0     0  ...     0   \n",
       "998  10999     0     0     0     0     0     0     0     0     0  ...     0   \n",
       "999  11000     0     0     0     0     0     0     0     0     0  ...     0   \n",
       "\n",
       "     A777  A778  A779  A780  A781  A782  A783  A784  label  \n",
       "0       0     0     0     0     0     0     0     0     -1  \n",
       "1       0     0     0     0     0     0     0     0     -1  \n",
       "2       0     0     0     0     0     0     0     0     -1  \n",
       "3       0     0     0     0     0     0     0     0     -1  \n",
       "4       0     0     0     0     0     0     0     0     -1  \n",
       "..    ...   ...   ...   ...   ...   ...   ...   ...    ...  \n",
       "995     0     0     0     0     0     0     0     0      1  \n",
       "996     0     0     0     0     0     0     0     0      1  \n",
       "997     0     0     0     0     0     0     0     0      1  \n",
       "998     0     0     0     0     0     0     0     0      1  \n",
       "999     0     0     0     0     0     0     0     0      1  \n",
       "\n",
       "[1000 rows x 786 columns]"
      ]
     },
     "execution_count": 6,
     "metadata": {},
     "output_type": "execute_result"
    }
   ],
   "source": [
    "train_bin_df"
   ]
  },
  {
   "cell_type": "code",
   "execution_count": 7,
   "metadata": {},
   "outputs": [
    {
     "data": {
      "text/plain": [
       "0       20001\n",
       "1       20002\n",
       "2       20003\n",
       "3       20004\n",
       "4       20005\n",
       "        ...  \n",
       "1995    21996\n",
       "1996    21997\n",
       "1997    21998\n",
       "1998    21999\n",
       "1999    22000\n",
       "Name: ident, Length: 2000, dtype: int64"
      ]
     },
     "execution_count": 7,
     "metadata": {},
     "output_type": "execute_result"
    }
   ],
   "source": [
    "train_bin_df.pop(\"ident\")\n",
    "test_bin_df.pop(\"ident\")\n",
    "train_mult_df.pop(\"ident\")\n",
    "test_mult_df.pop(\"ident\")"
   ]
  },
  {
   "cell_type": "markdown",
   "metadata": {},
   "source": [
    "### Séparation attributs X et labels Y"
   ]
  },
  {
   "cell_type": "code",
   "execution_count": 8,
   "metadata": {},
   "outputs": [],
   "source": [
    "train_bin_label = np.array(train_bin_df.pop(\"label\"))\n",
    "test_bin_label = np.array(test_bin_df.pop(\"label\"))\n",
    "train_mult_label = np.array(train_mult_df.pop(\"label\"))\n",
    "test_mult_label = np.array(test_mult_df.pop(\"label\"))"
   ]
  },
  {
   "cell_type": "code",
   "execution_count": 9,
   "metadata": {},
   "outputs": [
    {
     "data": {
      "text/plain": [
       "array([-1, -1, -1, -1, -1, -1, -1, -1, -1, -1, -1, -1, -1, -1, -1, -1, -1,\n",
       "       -1, -1, -1, -1, -1, -1, -1, -1, -1, -1, -1, -1, -1, -1, -1, -1, -1,\n",
       "       -1, -1, -1, -1, -1, -1, -1, -1, -1, -1, -1, -1, -1, -1, -1, -1, -1,\n",
       "       -1, -1, -1, -1, -1, -1, -1, -1, -1, -1, -1, -1, -1, -1, -1, -1, -1,\n",
       "       -1, -1, -1, -1, -1, -1, -1, -1, -1, -1, -1, -1, -1, -1, -1, -1, -1,\n",
       "       -1, -1, -1, -1, -1, -1, -1, -1, -1, -1, -1, -1, -1, -1, -1, -1, -1,\n",
       "       -1, -1, -1, -1, -1, -1, -1, -1, -1, -1, -1, -1, -1, -1, -1, -1, -1,\n",
       "       -1, -1, -1, -1, -1, -1, -1, -1, -1, -1, -1, -1, -1, -1, -1, -1, -1,\n",
       "       -1, -1, -1, -1, -1, -1, -1, -1, -1, -1, -1, -1, -1, -1, -1, -1, -1,\n",
       "       -1, -1, -1, -1, -1, -1, -1, -1, -1, -1, -1, -1, -1, -1, -1, -1, -1,\n",
       "       -1, -1, -1, -1, -1, -1, -1, -1, -1, -1, -1, -1, -1, -1, -1, -1, -1,\n",
       "       -1, -1, -1, -1, -1, -1, -1, -1, -1, -1, -1, -1, -1, -1, -1, -1, -1,\n",
       "       -1, -1, -1, -1, -1, -1, -1, -1, -1, -1, -1, -1, -1, -1, -1, -1, -1,\n",
       "       -1, -1, -1, -1, -1, -1, -1, -1, -1, -1, -1, -1, -1, -1, -1, -1, -1,\n",
       "       -1, -1, -1, -1, -1, -1, -1, -1, -1, -1, -1, -1, -1, -1, -1, -1, -1,\n",
       "       -1, -1, -1, -1, -1, -1, -1, -1, -1, -1, -1, -1, -1, -1, -1, -1, -1,\n",
       "       -1, -1, -1, -1, -1, -1, -1, -1, -1, -1, -1, -1, -1, -1, -1, -1, -1,\n",
       "       -1, -1, -1, -1, -1, -1, -1, -1, -1, -1, -1, -1, -1, -1, -1, -1, -1,\n",
       "       -1, -1, -1, -1, -1, -1, -1, -1, -1, -1, -1, -1, -1, -1, -1, -1, -1,\n",
       "       -1, -1, -1, -1, -1, -1, -1, -1, -1, -1, -1, -1, -1, -1, -1, -1, -1,\n",
       "       -1, -1, -1, -1, -1, -1, -1, -1, -1, -1, -1, -1, -1, -1, -1, -1, -1,\n",
       "       -1, -1, -1, -1, -1, -1, -1, -1, -1, -1, -1, -1, -1, -1, -1, -1, -1,\n",
       "       -1, -1, -1, -1, -1, -1, -1, -1, -1, -1, -1, -1, -1, -1, -1, -1, -1,\n",
       "       -1, -1, -1, -1, -1, -1, -1, -1, -1, -1, -1, -1, -1, -1, -1, -1, -1,\n",
       "       -1, -1, -1, -1, -1, -1, -1, -1, -1, -1, -1, -1, -1, -1, -1, -1, -1,\n",
       "       -1, -1, -1, -1, -1, -1, -1, -1, -1, -1, -1, -1, -1, -1, -1, -1, -1,\n",
       "       -1, -1, -1, -1, -1, -1, -1, -1, -1, -1, -1, -1, -1, -1, -1, -1, -1,\n",
       "       -1, -1, -1, -1, -1, -1, -1, -1, -1, -1, -1, -1, -1, -1, -1, -1, -1,\n",
       "       -1, -1, -1, -1, -1, -1, -1, -1, -1, -1, -1, -1, -1, -1, -1, -1, -1,\n",
       "       -1, -1, -1, -1, -1, -1, -1,  1,  1,  1,  1,  1,  1,  1,  1,  1,  1,\n",
       "        1,  1,  1,  1,  1,  1,  1,  1,  1,  1,  1,  1,  1,  1,  1,  1,  1,\n",
       "        1,  1,  1,  1,  1,  1,  1,  1,  1,  1,  1,  1,  1,  1,  1,  1,  1,\n",
       "        1,  1,  1,  1,  1,  1,  1,  1,  1,  1,  1,  1,  1,  1,  1,  1,  1,\n",
       "        1,  1,  1,  1,  1,  1,  1,  1,  1,  1,  1,  1,  1,  1,  1,  1,  1,\n",
       "        1,  1,  1,  1,  1,  1,  1,  1,  1,  1,  1,  1,  1,  1,  1,  1,  1,\n",
       "        1,  1,  1,  1,  1,  1,  1,  1,  1,  1,  1,  1,  1,  1,  1,  1,  1,\n",
       "        1,  1,  1,  1,  1,  1,  1,  1,  1,  1,  1,  1,  1,  1,  1,  1,  1,\n",
       "        1,  1,  1,  1,  1,  1,  1,  1,  1,  1,  1,  1,  1,  1,  1,  1,  1,\n",
       "        1,  1,  1,  1,  1,  1,  1,  1,  1,  1,  1,  1,  1,  1,  1,  1,  1,\n",
       "        1,  1,  1,  1,  1,  1,  1,  1,  1,  1,  1,  1,  1,  1,  1,  1,  1,\n",
       "        1,  1,  1,  1,  1,  1,  1,  1,  1,  1,  1,  1,  1,  1,  1,  1,  1,\n",
       "        1,  1,  1,  1,  1,  1,  1,  1,  1,  1,  1,  1,  1,  1,  1,  1,  1,\n",
       "        1,  1,  1,  1,  1,  1,  1,  1,  1,  1,  1,  1,  1,  1,  1,  1,  1,\n",
       "        1,  1,  1,  1,  1,  1,  1,  1,  1,  1,  1,  1,  1,  1,  1,  1,  1,\n",
       "        1,  1,  1,  1,  1,  1,  1,  1,  1,  1,  1,  1,  1,  1,  1,  1,  1,\n",
       "        1,  1,  1,  1,  1,  1,  1,  1,  1,  1,  1,  1,  1,  1,  1,  1,  1,\n",
       "        1,  1,  1,  1,  1,  1,  1,  1,  1,  1,  1,  1,  1,  1,  1,  1,  1,\n",
       "        1,  1,  1,  1,  1,  1,  1,  1,  1,  1,  1,  1,  1,  1,  1,  1,  1,\n",
       "        1,  1,  1,  1,  1,  1,  1,  1,  1,  1,  1,  1,  1,  1,  1,  1,  1,\n",
       "        1,  1,  1,  1,  1,  1,  1,  1,  1,  1,  1,  1,  1,  1,  1,  1,  1,\n",
       "        1,  1,  1,  1,  1,  1,  1,  1,  1,  1,  1,  1,  1,  1,  1,  1,  1,\n",
       "        1,  1,  1,  1,  1,  1,  1,  1,  1,  1,  1,  1,  1,  1,  1,  1,  1,\n",
       "        1,  1,  1,  1,  1,  1,  1,  1,  1,  1,  1,  1,  1,  1,  1,  1,  1,\n",
       "        1,  1,  1,  1,  1,  1,  1,  1,  1,  1,  1,  1,  1,  1,  1,  1,  1,\n",
       "        1,  1,  1,  1,  1,  1,  1,  1,  1,  1,  1,  1,  1,  1,  1,  1,  1,\n",
       "        1,  1,  1,  1,  1,  1,  1,  1,  1,  1,  1,  1,  1,  1,  1,  1,  1,\n",
       "        1,  1,  1,  1,  1,  1,  1,  1,  1,  1,  1,  1,  1,  1,  1,  1,  1,\n",
       "        1,  1,  1,  1,  1,  1,  1,  1,  1,  1,  1,  1,  1,  1,  1,  1,  1,\n",
       "        1,  1,  1,  1,  1,  1,  1,  1,  1,  1,  1,  1,  1,  1])"
      ]
     },
     "execution_count": 9,
     "metadata": {},
     "output_type": "execute_result"
    }
   ],
   "source": [
    "train_bin_label"
   ]
  },
  {
   "cell_type": "markdown",
   "metadata": {},
   "source": [
    "### Passer de dataframe à array"
   ]
  },
  {
   "cell_type": "code",
   "execution_count": 10,
   "metadata": {},
   "outputs": [],
   "source": [
    "# Pour la classification binaire :\n",
    "train_bin = np.array(train_bin_df)\n",
    "test_bin = np.array(test_bin_df)\n",
    "    \n",
    "# Pour la classification multiclasses : \n",
    "train_mult = np.array(train_mult_df)\n",
    "test_mult = np.array(test_mult_df)"
   ]
  },
  {
   "cell_type": "code",
   "execution_count": 11,
   "metadata": {},
   "outputs": [
    {
     "data": {
      "text/plain": [
       "array([[0, 0, 0, ..., 0, 0, 0],\n",
       "       [0, 0, 0, ..., 0, 0, 0],\n",
       "       [0, 0, 0, ..., 0, 0, 0],\n",
       "       ...,\n",
       "       [0, 0, 0, ..., 0, 0, 0],\n",
       "       [0, 0, 0, ..., 0, 0, 0],\n",
       "       [0, 0, 0, ..., 0, 0, 0]])"
      ]
     },
     "execution_count": 11,
     "metadata": {},
     "output_type": "execute_result"
    }
   ],
   "source": [
    "train_bin"
   ]
  },
  {
   "cell_type": "markdown",
   "metadata": {},
   "source": [
    "# Problème de classification binaire "
   ]
  },
  {
   "cell_type": "markdown",
   "metadata": {},
   "source": [
    "## Visualisation des données d'entrainements"
   ]
  },
  {
   "cell_type": "code",
   "execution_count": 12,
   "metadata": {},
   "outputs": [
    {
     "name": "stderr",
     "output_type": "stream",
     "text": [
      "/opt/homebrew/lib/python3.9/site-packages/matplotlib/collections.py:200: ComplexWarning: Casting complex values to real discards the imaginary part\n",
      "  offsets = np.asanyarray(offsets, float)\n"
     ]
    },
    {
     "data": {
      "text/plain": [
       "<matplotlib.legend.Legend at 0x136749820>"
      ]
     },
     "execution_count": 12,
     "metadata": {},
     "output_type": "execute_result"
    },
    {
     "data": {
      "image/png": "[encoded data removed]",
      "text/plain": [
       "<Figure size 432x288 with 1 Axes>"
      ]
     },
     "metadata": {
      "needs_background": "light"
     },
     "output_type": "display_data"
    }
   ],
   "source": [
    "# 1) calcul des vecteurs propres\n",
    "W, V = np.linalg.eig(train_bin.T @ train_bin)\n",
    "\n",
    "# 2) tri et sélection des 2 vecteurs associés aux 2 plus grandes valeurs propres \n",
    "i, j = np.argsort(W)[-2:]\n",
    "\n",
    "# 3) affichage (plot) avec un code couleur pour les classes\n",
    "train_bin_proj_j = np.dot(train_bin, V.T[j])\n",
    "train_bin_proj_i = np.dot(train_bin, V.T[i])\n",
    "plt.scatter(train_bin_proj_j[train_bin_label==1], train_bin_proj_i[train_bin_label==1])\n",
    "plt.scatter(train_bin_proj_j[train_bin_label==-1], train_bin_proj_i[train_bin_label==-1])\n",
    "plt.legend(['1', '-1'])"
   ]
  },
  {
   "cell_type": "markdown",
   "metadata": {},
   "source": [
    "## Visualisation des données de test"
   ]
  },
  {
   "cell_type": "code",
   "execution_count": 13,
   "metadata": {},
   "outputs": [
    {
     "data": {
      "text/plain": [
       "<matplotlib.legend.Legend at 0x136781c70>"
      ]
     },
     "execution_count": 13,
     "metadata": {},
     "output_type": "execute_result"
    },
    {
     "data": {
      "image/png": "[encoded data removed]",
      "text/plain": [
       "<Figure size 432x288 with 1 Axes>"
      ]
     },
     "metadata": {
      "needs_background": "light"
     },
     "output_type": "display_data"
    }
   ],
   "source": [
    "# 1) calcul des vecteurs propres\n",
    "W, V = np.linalg.eig(test_bin.T @ test_bin)\n",
    "\n",
    "# 2) tri et sélection des 2 vecteurs associés aux 2 plus grandes valeurs propres \n",
    "i, j = np.argsort(W)[-2:]\n",
    "\n",
    "# 3) affichage (plot) avec un code couleur pour les classes\n",
    "test_bin_proj_j = np.dot(test_bin, V.T[j])\n",
    "test_bin_proj_i = np.dot(test_bin, V.T[i])\n",
    "plt.scatter(test_bin_proj_j[test_bin_label==1], test_bin_proj_i[test_bin_label==1])\n",
    "plt.scatter(test_bin_proj_j[test_bin_label==-1], test_bin_proj_i[test_bin_label==-1])\n",
    "plt.legend(['1', '-1'])"
   ]
  },
  {
   "cell_type": "markdown",
   "metadata": {},
   "source": [
    "# Application du classifieur Knn sur problème de classification binaire "
   ]
  },
  {
   "cell_type": "markdown",
   "metadata": {},
   "source": [
    "### Nous allons créer différents classifieur knn en variant la valeur du parametre k qui doit être impair et qui variera de la valeur 1 à 15"
   ]
  },
  {
   "cell_type": "code",
   "execution_count": 14,
   "metadata": {},
   "outputs": [],
   "source": [
    "# Liste des accuracy pour chaque Classifieur selon sa valeur k \n",
    "KNN_accuracy = {}"
   ]
  },
  {
   "cell_type": "markdown",
   "metadata": {},
   "source": [
    "### Création et entraînements des classifieurs stockés dans une liste"
   ]
  },
  {
   "cell_type": "code",
   "execution_count": 15,
   "metadata": {},
   "outputs": [
    {
     "ename": "NameError",
     "evalue": "name 'classif' is not defined",
     "output_type": "error",
     "traceback": [
      "\u001b[0;31m---------------------------------------------------------------------------\u001b[0m",
      "\u001b[0;31mNameError\u001b[0m                                 Traceback (most recent call last)",
      "Input \u001b[0;32mIn [15]\u001b[0m, in \u001b[0;36m<cell line: 1>\u001b[0;34m()\u001b[0m\n\u001b[0;32m----> 1\u001b[0m KNN_list \u001b[38;5;241m=\u001b[39m [classif\u001b[38;5;241m.\u001b[39mClassifierKNN(\u001b[38;5;28mlen\u001b[39m(train_bin[\u001b[38;5;241m0\u001b[39m]), i) \u001b[38;5;28;01mfor\u001b[39;00m i \u001b[38;5;129;01min\u001b[39;00m \u001b[38;5;28mrange\u001b[39m(\u001b[38;5;241m1\u001b[39m, \u001b[38;5;241m16\u001b[39m, \u001b[38;5;241m2\u001b[39m)]\n",
      "Input \u001b[0;32mIn [15]\u001b[0m, in \u001b[0;36m<listcomp>\u001b[0;34m(.0)\u001b[0m\n\u001b[0;32m----> 1\u001b[0m KNN_list \u001b[38;5;241m=\u001b[39m [\u001b[43mclassif\u001b[49m\u001b[38;5;241m.\u001b[39mClassifierKNN(\u001b[38;5;28mlen\u001b[39m(train_bin[\u001b[38;5;241m0\u001b[39m]), i) \u001b[38;5;28;01mfor\u001b[39;00m i \u001b[38;5;129;01min\u001b[39;00m \u001b[38;5;28mrange\u001b[39m(\u001b[38;5;241m1\u001b[39m, \u001b[38;5;241m16\u001b[39m, \u001b[38;5;241m2\u001b[39m)]\n",
      "\u001b[0;31mNameError\u001b[0m: name 'classif' is not defined"
     ]
    }
   ],
   "source": [
    "KNN_list = [classif.ClassifierKNN(len(train_bin[0]), i) for i in range(1, 16, 2)]"
   ]
  },
  {
   "cell_type": "code",
   "execution_count": 16,
   "metadata": {},
   "outputs": [
    {
     "ename": "NameError",
     "evalue": "name 'KNN_list' is not defined",
     "output_type": "error",
     "traceback": [
      "\u001b[0;31m---------------------------------------------------------------------------\u001b[0m",
      "\u001b[0;31mNameError\u001b[0m                                 Traceback (most recent call last)",
      "Input \u001b[0;32mIn [16]\u001b[0m, in \u001b[0;36m<cell line: 1>\u001b[0;34m()\u001b[0m\n\u001b[0;32m----> 1\u001b[0m \u001b[38;5;28;01mfor\u001b[39;00m i \u001b[38;5;129;01min\u001b[39;00m tqdm(\u001b[38;5;28mrange\u001b[39m(\u001b[38;5;28mlen\u001b[39m(\u001b[43mKNN_list\u001b[49m))) :\n\u001b[1;32m      2\u001b[0m     KNN_list[i]\u001b[38;5;241m.\u001b[39mtrain(train_bin, train_bin_label)\n\u001b[1;32m      3\u001b[0m     a \u001b[38;5;241m=\u001b[39m KNN_list[i]\u001b[38;5;241m.\u001b[39maccuracy(train_bin, train_bin_label)\n",
      "\u001b[0;31mNameError\u001b[0m: name 'KNN_list' is not defined"
     ]
    }
   ],
   "source": [
    "for i in tqdm(range(len(KNN_list))) :\n",
    "    KNN_list[i].train(train_bin, train_bin_label)\n",
    "    a = KNN_list[i].accuracy(train_bin, train_bin_label)\n",
    "    KNN_accuracy[KNN_list[i].v] = a"
   ]
  },
  {
   "cell_type": "markdown",
   "metadata": {},
   "source": [
    "### Affichage des accuracy selon la valeur de k:"
   ]
  },
  {
   "cell_type": "code",
   "execution_count": 547,
   "metadata": {},
   "outputs": [
    {
     "data": {
      "text/plain": [
       "{1: 1.0,\n",
       " 3: 0.968,\n",
       " 5: 0.965,\n",
       " 7: 0.967,\n",
       " 9: 0.962,\n",
       " 11: 0.957,\n",
       " 13: 0.955,\n",
       " 15: 0.951}"
      ]
     },
     "execution_count": 547,
     "metadata": {},
     "output_type": "execute_result"
    }
   ],
   "source": [
    "KNN_accuracy"
   ]
  },
  {
   "cell_type": "markdown",
   "metadata": {},
   "source": [
    "### Tracé de la variation de l'accuracy en fonction de la valeur de k:"
   ]
  },
  {
   "cell_type": "code",
   "execution_count": 548,
   "metadata": {},
   "outputs": [
    {
     "data": {
      "image/png": "[encoded data removed]",
      "text/plain": [
       "<Figure size 432x288 with 1 Axes>"
      ]
     },
     "metadata": {
      "needs_background": "light"
     },
     "output_type": "display_data"
    }
   ],
   "source": [
    "plt.plot([i for i in range(1, 16, 2)], [ acc for k,acc in KNN_accuracy.items()])  \n",
    "plt.ylabel('Accuracy')\n",
    "plt.xlabel(\"k\")\n",
    "plt.title(\"Valeur de l'accuracy selon le k utilisé.\")\n",
    "plt.show()"
   ]
  },
  {
   "cell_type": "code",
   "execution_count": 549,
   "metadata": {
    "scrolled": true
   },
   "outputs": [
    {
     "name": "stdout",
     "output_type": "stream",
     "text": [
      "Le k nous donnant la meilleure accuracy ( 0.968 ) est :  3\n"
     ]
    }
   ],
   "source": [
    "# On exclue k = 1 car on a vu que le résultant fournit par cette valeur de k est biaisé.\n",
    "#En effet, s'étant entraîné sur un data set donné, un classifieur KNN avec k = 1 classera parfaitement tous les exemples de ce data set.\n",
    "del KNN_accuracy[1]\n",
    "k_max = max(KNN_accuracy, key = KNN_accuracy.get)\n",
    "print(\"Le k nous donnant la meilleure accuracy (\", KNN_accuracy[k_max] ,\") est : \", k_max)"
   ]
  },
  {
   "cell_type": "markdown",
   "metadata": {},
   "source": [
    "### Test de la procédure de validation croisée sur les données d'entrainements avec le classifieur Knn"
   ]
  },
  {
   "cell_type": "code",
   "execution_count": 17,
   "metadata": {
    "scrolled": true
   },
   "outputs": [
    {
     "name": "stderr",
     "output_type": "stream",
     "text": [
      "  0%|                                                    | 0/50 [00:00<?, ?it/s]\n"
     ]
    },
    {
     "ename": "NameError",
     "evalue": "name 'ut' is not defined",
     "output_type": "error",
     "traceback": [
      "\u001b[0;31m---------------------------------------------------------------------------\u001b[0m",
      "\u001b[0;31mNameError\u001b[0m                                 Traceback (most recent call last)",
      "Input \u001b[0;32mIn [17]\u001b[0m, in \u001b[0;36m<cell line: 7>\u001b[0;34m()\u001b[0m\n\u001b[1;32m      5\u001b[0m niter \u001b[38;5;241m=\u001b[39m \u001b[38;5;241m50\u001b[39m\n\u001b[1;32m      7\u001b[0m \u001b[38;5;28;01mfor\u001b[39;00m i \u001b[38;5;129;01min\u001b[39;00m tqdm(\u001b[38;5;28mrange\u001b[39m(niter)):\n\u001b[0;32m----> 8\u001b[0m     Xapp,Yapp,Xtest,Ytest \u001b[38;5;241m=\u001b[39m \u001b[43mut\u001b[49m\u001b[38;5;241m.\u001b[39mcrossval(Xb, Yb, niter, i)\n\u001b[1;32m      9\u001b[0m     \u001b[38;5;28mprint\u001b[39m(Xapp)\n\u001b[1;32m     10\u001b[0m     knn_cross \u001b[38;5;241m=\u001b[39m classif\u001b[38;5;241m.\u001b[39mClassifierKNN(\u001b[38;5;28mlen\u001b[39m(train_bin[\u001b[38;5;241m0\u001b[39m]), k_max)\n",
      "\u001b[0;31mNameError\u001b[0m: name 'ut' is not defined"
     ]
    }
   ],
   "source": [
    "index = np.random.permutation(len(train_bin[0])) # mélange des index\n",
    "Xb = train_bin[index]\n",
    "Yb = train_bin_label[index]\n",
    "perf_knn_train = []\n",
    "niter = 50\n",
    "\n",
    "for i in tqdm(range(niter)):\n",
    "    Xapp,Yapp,Xtest,Ytest = ut.crossval(Xb, Yb, niter, i)\n",
    "    print(Xapp)\n",
    "    knn_cross = classif.ClassifierKNN(len(train_bin[0]), k_max)\n",
    "    knn_cross.train(Xapp, Yapp)\n",
    "    perf_knn_train.append(knn_cross.accuracy(Xtest, Ytest))\n"
   ]
  },
  {
   "cell_type": "code",
   "execution_count": 551,
   "metadata": {},
   "outputs": [
    {
     "name": "stdout",
     "output_type": "stream",
     "text": [
      "Perfs knn train [1.0, 1.0, 1.0, 0.8666666666666667, 0.9333333333333333, 0.9333333333333333, 1.0, 0.9333333333333333, 0.9333333333333333, 0.9333333333333333, 0.8666666666666667, 1.0, 0.8666666666666667, 0.9333333333333333, 0.9333333333333333, 1.0, 0.9333333333333333, 0.9333333333333333, 0.9333333333333333, 1.0, 1.0, 1.0, 0.9333333333333333, 1.0, 0.9333333333333333, 1.0, 1.0, 1.0, 0.9333333333333333, 0.9333333333333333, 1.0, 0.9333333333333333, 0.9333333333333333, 0.9333333333333333, 1.0, 0.9333333333333333, 0.9333333333333333, 0.9333333333333333, 1.0, 1.0, 0.9333333333333333, 0.9333333333333333, 1.0, 0.9333333333333333, 1.0, 0.8666666666666667, 0.8, 0.9333333333333333, 0.9333333333333333, 1.0]\n"
     ]
    },
    {
     "data": {
      "text/plain": [
       "(0.9520000000000001, 0.0021404444444444435)"
      ]
     },
     "execution_count": 551,
     "metadata": {},
     "output_type": "execute_result"
    }
   ],
   "source": [
    "print(\"Perfs knn train\", perf_knn_train)\n",
    "eva.analyse_perfs(perf_knn_train)"
   ]
  },
  {
   "cell_type": "markdown",
   "metadata": {},
   "source": [
    "#### *la variance (0.0034) nous montre que le modèle est assez robuste (en comparaison avec l'exemple vu en TME4 ou l'on avait une variance égale à 4.95e-05)*"
   ]
  },
  {
   "cell_type": "markdown",
   "metadata": {},
   "source": [
    "## Evaluation du classifieur Knn sur le dataset de test"
   ]
  },
  {
   "cell_type": "markdown",
   "metadata": {},
   "source": [
    "### L'execution de cette cellule prend en moyenne 36.58 secondes pour réaliser une itération "
   ]
  },
  {
   "cell_type": "code",
   "execution_count": 552,
   "metadata": {},
   "outputs": [
    {
     "name": "stderr",
     "output_type": "stream",
     "text": [
      "100%|██████████| 8/8 [04:52<00:00, 36.58s/it]\n"
     ]
    }
   ],
   "source": [
    "KNN_accuracy_test = {}\n",
    "for i in tqdm(range(len(KNN_list))):\n",
    "    a = KNN_list[i].accuracy(test_bin, test_bin_label)\n",
    "    KNN_accuracy_test[KNN_list[i].v] = a"
   ]
  },
  {
   "cell_type": "markdown",
   "metadata": {},
   "source": [
    "### Affichage des accuracy selon la valeur de k:"
   ]
  },
  {
   "cell_type": "code",
   "execution_count": 553,
   "metadata": {},
   "outputs": [
    {
     "data": {
      "text/plain": [
       "{1: 0.935,\n",
       " 3: 0.943,\n",
       " 5: 0.946,\n",
       " 7: 0.945,\n",
       " 9: 0.944,\n",
       " 11: 0.942,\n",
       " 13: 0.943,\n",
       " 15: 0.942}"
      ]
     },
     "execution_count": 553,
     "metadata": {},
     "output_type": "execute_result"
    }
   ],
   "source": [
    "KNN_accuracy_test"
   ]
  },
  {
   "cell_type": "markdown",
   "metadata": {},
   "source": [
    "### Tracé de la variation de l'accuracy en fonction de la valeur de k:"
   ]
  },
  {
   "cell_type": "code",
   "execution_count": 554,
   "metadata": {},
   "outputs": [
    {
     "data": {
      "image/png": "[encoded data removed]",
      "text/plain": [
       "<Figure size 432x288 with 1 Axes>"
      ]
     },
     "metadata": {
      "needs_background": "light"
     },
     "output_type": "display_data"
    }
   ],
   "source": [
    "plt.plot([i for i in range(1, 16, 2)], [ acc for k,acc in KNN_accuracy_test.items()])  \n",
    "plt.ylabel('Accuracy')\n",
    "plt.xlabel(\"k\")\n",
    "plt.title(\"Valeur de l'accuracy selon le k utilisé.\")\n",
    "plt.show()"
   ]
  },
  {
   "cell_type": "code",
   "execution_count": 555,
   "metadata": {},
   "outputs": [
    {
     "name": "stdout",
     "output_type": "stream",
     "text": [
      "Le k nous donnant la meilleure accuracy ( 0.946 ) est :  5\n"
     ]
    }
   ],
   "source": [
    "k_max_test = max(KNN_accuracy_test, key = KNN_accuracy_test.get)\n",
    "print(\"Le k nous donnant la meilleure accuracy (\", KNN_accuracy_test[k_max_test] ,\") est : \", k_max_test)"
   ]
  },
  {
   "cell_type": "markdown",
   "metadata": {},
   "source": [
    "### Test de la procédure de validation croisée sur les données de test avec le classifieur Knn"
   ]
  },
  {
   "cell_type": "code",
   "execution_count": 556,
   "metadata": {},
   "outputs": [
    {
     "name": "stderr",
     "output_type": "stream",
     "text": [
      "100%|██████████| 50/50 [00:16<00:00,  3.04it/s]\n"
     ]
    }
   ],
   "source": [
    "index = np.random.permutation(len(test_bin[0])) # mélange des index\n",
    "Xb = test_bin[index]\n",
    "Yb = test_bin_label[index]\n",
    "perf_knn_test = []\n",
    "niter = 50\n",
    "\n",
    "for i in tqdm(range(niter)):\n",
    "    Xapp,Yapp,Xtest,Ytest = ut.crossval(Xb, Yb, niter, i)\n",
    "    knn_cross = classif.ClassifierKNN(len(train_bin[0]), k_max_test)\n",
    "    knn_cross.train(Xapp, Yapp)\n",
    "    perf_knn_test.append(knn_cross.accuracy(Xtest, Ytest))\n",
    "\n"
   ]
  },
  {
   "cell_type": "code",
   "execution_count": 557,
   "metadata": {},
   "outputs": [
    {
     "name": "stdout",
     "output_type": "stream",
     "text": [
      "Perfs knn test [0.8666666666666667, 0.9333333333333333, 0.9333333333333333, 1.0, 0.9333333333333333, 0.9333333333333333, 1.0, 1.0, 1.0, 0.9333333333333333, 1.0, 0.9333333333333333, 1.0, 1.0, 1.0, 0.8666666666666667, 1.0, 1.0, 1.0, 0.9333333333333333, 0.9333333333333333, 1.0, 0.8666666666666667, 0.9333333333333333, 1.0, 0.9333333333333333, 1.0, 0.9333333333333333, 1.0, 1.0, 1.0, 0.9333333333333333, 1.0, 0.9333333333333333, 0.9333333333333333, 0.9333333333333333, 0.9333333333333333, 1.0, 1.0, 0.9333333333333333, 1.0, 1.0, 1.0, 0.7333333333333333, 1.0, 1.0, 1.0, 0.9333333333333333, 0.8666666666666667, 0.9333333333333333]\n"
     ]
    },
    {
     "data": {
      "text/plain": [
       "(0.9586666666666668, 0.0028248888888888885)"
      ]
     },
     "execution_count": 557,
     "metadata": {},
     "output_type": "execute_result"
    }
   ],
   "source": [
    "print(\"Perfs knn test\", perf_knn_test)\n",
    "eva.analyse_perfs(perf_knn_test)"
   ]
  },
  {
   "cell_type": "markdown",
   "metadata": {},
   "source": [
    "#### *la variance est presque équivalente à celle calculée précedement avec les données d'entrainements.*"
   ]
  },
  {
   "cell_type": "markdown",
   "metadata": {},
   "source": [
    "## Au vu des résultats, nous garderons le classifieur knn avec k = 5 pour la suite des tests et comparaison."
   ]
  },
  {
   "cell_type": "markdown",
   "metadata": {},
   "source": [
    "# Application du classifieur perceptron sur un problème de classification binaire"
   ]
  },
  {
   "cell_type": "markdown",
   "metadata": {},
   "source": [
    "### Création de perceptrons pour données d'entraînement avec initialisation de w à 0 et random en faisant varier la valeur du learning_rate :"
   ]
  },
  {
   "cell_type": "code",
   "execution_count": 469,
   "metadata": {},
   "outputs": [],
   "source": [
    "dim_train_bin = len(train_bin[0])\n",
    "learning_rate_list = [0.1, 0.01, 0.001]\n",
    "perceptron_list = [] \n",
    "PERCEPTRON_accuracy = []"
   ]
  },
  {
   "cell_type": "code",
   "execution_count": 470,
   "metadata": {},
   "outputs": [],
   "source": [
    "for lr in learning_rate_list :\n",
    "    perceptron_list.append(classif.ClassifierPerceptron(dim_train_bin, lr))\n",
    "    perceptron_list.append(classif.ClassifierPerceptron(dim_train_bin, lr, 1))"
   ]
  },
  {
   "cell_type": "markdown",
   "metadata": {},
   "source": [
    "### Apprentissage des perceptrons jusqu'à convergence"
   ]
  },
  {
   "cell_type": "code",
   "execution_count": 471,
   "metadata": {},
   "outputs": [],
   "source": [
    "for p in perceptron_list : \n",
    "    p.train(train_bin, train_bin_label)\n",
    "    PERCEPTRON_accuracy.append(p.accuracy(train_bin, train_bin_label))"
   ]
  },
  {
   "cell_type": "markdown",
   "metadata": {},
   "source": [
    "### Affichage des accuracy en fonction de w et learning_rate"
   ]
  },
  {
   "cell_type": "code",
   "execution_count": 472,
   "metadata": {},
   "outputs": [
    {
     "name": "stdout",
     "output_type": "stream",
     "text": [
      "accuracy pour w initialisé à  0 et learning_rate =  0.1  -->  1.0\n",
      "accuracy pour w initialisé à random et learning_rate =  0.1  -->  1.0\n",
      "accuracy pour w initialisé à  0 et learning_rate =  0.01  -->  1.0\n",
      "accuracy pour w initialisé à random et learning_rate =  0.01  -->  1.0\n",
      "accuracy pour w initialisé à  0 et learning_rate =  0.001  -->  1.0\n",
      "accuracy pour w initialisé à random et learning_rate =  0.001  -->  1.0\n"
     ]
    }
   ],
   "source": [
    "# Nous feront la distinction entre les perceptron avec w un de départ initialisés à 0 et ceux initialisés avec un w de départ aléatoire \n",
    "w0_list = []\n",
    "wr_list = []\n",
    "w0_accu = []\n",
    "wr_accu = []\n",
    "for i in range(0, len(perceptron_list)):\n",
    "    if( i % 2 == 0 ) :\n",
    "        w0_list.append(perceptron_list[i])\n",
    "        w0_accu.append(PERCEPTRON_accuracy[i])\n",
    "        print(\"accuracy pour w initialisé à  0 et learning_rate = \", perceptron_list[i].epsilon, \" --> \", PERCEPTRON_accuracy[i])\n",
    "    else :\n",
    "        wr_list.append(perceptron_list[i])\n",
    "        wr_accu.append(PERCEPTRON_accuracy[i])\n",
    "        print(\"accuracy pour w initialisé à random et learning_rate = \", perceptron_list[i].epsilon, \" --> \", PERCEPTRON_accuracy[i])\n",
    "            "
   ]
  },
  {
   "cell_type": "markdown",
   "metadata": {},
   "source": [
    "### Tracé de la variation de l'accuracy en fonction de epsilon pour w initialisé à 0"
   ]
  },
  {
   "cell_type": "code",
   "execution_count": 473,
   "metadata": {},
   "outputs": [
    {
     "data": {
      "image/png": "[encoded data removed]",
      "text/plain": [
       "<Figure size 432x288 with 1 Axes>"
      ]
     },
     "metadata": {
      "needs_background": "light"
     },
     "output_type": "display_data"
    }
   ],
   "source": [
    "plt.plot([ w0_list[i].epsilon for i in range(0, len(w0_list))], [ acc for acc in w0_accu])  \n",
    "plt.ylabel('Accuracy')\n",
    "plt.xlabel(\"learning_rate\")\n",
    "plt.title(\"Valeur de l'accuracy selon le learning_rate utilisé.\")\n",
    "plt.show()"
   ]
  },
  {
   "cell_type": "markdown",
   "metadata": {},
   "source": [
    "### Tracé de la variation de l'accuracy en fonction de epsilon pour w initialisé aléatoirement"
   ]
  },
  {
   "cell_type": "code",
   "execution_count": 474,
   "metadata": {},
   "outputs": [
    {
     "data": {
      "image/png": "[encoded data removed]",
      "text/plain": [
       "<Figure size 432x288 with 1 Axes>"
      ]
     },
     "metadata": {
      "needs_background": "light"
     },
     "output_type": "display_data"
    }
   ],
   "source": [
    "plt.plot([ wr_list[i].epsilon for i in range(0, len(wr_list))], [ acc for acc in wr_accu])  \n",
    "plt.ylabel('Accuracy')\n",
    "plt.xlabel(\"learning_rate\")\n",
    "plt.title(\"Valeur de l'accuracy selon le learning_rate utilisé.\")\n",
    "plt.show()"
   ]
  },
  {
   "cell_type": "markdown",
   "metadata": {},
   "source": [
    "#### *Celà ne nous éclaire pas vraiment sur les performance de chaque perceptrons sur les données d'entrainements*"
   ]
  },
  {
   "cell_type": "markdown",
   "metadata": {},
   "source": [
    "### Test de la procédure de validation croisée sur les données d'entrainements avec le classifieur Perceptron"
   ]
  },
  {
   "cell_type": "code",
   "execution_count": 475,
   "metadata": {},
   "outputs": [
    {
     "name": "stderr",
     "output_type": "stream",
     "text": [
      "100%|██████████| 50/50 [00:06<00:00,  7.28it/s]\n"
     ]
    }
   ],
   "source": [
    "index = np.random.permutation(len(train_bin[0])) # mélange des index\n",
    "Xb = train_bin[index]\n",
    "Yb = train_bin_label[index]\n",
    "perf_perceptron_train = []\n",
    "niter = 50\n",
    "\n",
    "for i in tqdm(range(niter)):\n",
    "    Xapp,Yapp,Xtest,Ytest = ut.crossval(Xb, Yb, niter, i)\n",
    "    perceptron_cross = classif.ClassifierPerceptron(len(train_bin[0]), 0.01)\n",
    "    perceptron_cross.train(Xapp, Yapp)\n",
    "    perf_perceptron_train.append(perceptron_cross.accuracy(Xtest, Ytest))\n",
    "\n"
   ]
  },
  {
   "cell_type": "code",
   "execution_count": 476,
   "metadata": {},
   "outputs": [
    {
     "name": "stdout",
     "output_type": "stream",
     "text": [
      "Perfs perceptron train [0.9333333333333333, 1.0, 0.9333333333333333, 0.9333333333333333, 0.8, 0.8666666666666667, 1.0, 0.9333333333333333, 0.9333333333333333, 0.9333333333333333, 0.8, 0.9333333333333333, 1.0, 1.0, 0.9333333333333333, 1.0, 0.9333333333333333, 0.8, 0.9333333333333333, 1.0, 1.0, 0.9333333333333333, 0.8666666666666667, 0.9333333333333333, 0.8666666666666667, 0.8, 1.0, 0.9333333333333333, 1.0, 0.9333333333333333, 0.9333333333333333, 1.0, 1.0, 1.0, 0.9333333333333333, 1.0, 1.0, 0.8666666666666667, 1.0, 0.8666666666666667, 0.9333333333333333, 0.8666666666666667, 0.8, 1.0, 0.9333333333333333, 1.0, 1.0, 0.9333333333333333, 0.8666666666666667, 1.0]\n"
     ]
    },
    {
     "data": {
      "text/plain": [
       "(0.936, 0.004081777777777776)"
      ]
     },
     "execution_count": 476,
     "metadata": {},
     "output_type": "execute_result"
    }
   ],
   "source": [
    "print(\"Perfs perceptron train\", perf_perceptron_train)\n",
    "eva.analyse_perfs(perf_perceptron_train)"
   ]
  },
  {
   "cell_type": "markdown",
   "metadata": {},
   "source": [
    "#### *ici en utilisant le perceptron nous obtenons une meilleure variance comparé au classifieur knn sur les mêmes données d'entrainements.*"
   ]
  },
  {
   "cell_type": "code",
   "execution_count": 477,
   "metadata": {},
   "outputs": [
    {
     "name": "stdout",
     "output_type": "stream",
     "text": [
      "Variance Knn pour données d'entraînements =  0.003429333333333332\n",
      "Variance Perceptron pour données d'entraînements =  0.004081777777777776\n"
     ]
    }
   ],
   "source": [
    "moy_knn_train, var_knn_train = eva.analyse_perfs(perf_knn_train)\n",
    "moy_perceptron_train, var_perceptron_train = eva.analyse_perfs(perf_perceptron_train)\n",
    "print(\"Variance Knn pour données d'entraînements = \", var_knn_train)\n",
    "print(\"Variance Perceptron pour données d'entraînements = \", var_perceptron_train)"
   ]
  },
  {
   "cell_type": "markdown",
   "metadata": {},
   "source": [
    "## Evaluation du classifieur Perceptron sur le dataset de test"
   ]
  },
  {
   "cell_type": "markdown",
   "metadata": {},
   "source": [
    "### Le test d'accuracy sur les données de test prennent nettement moins de temps en utilisant le perceptron contrairement au classifieur KNN (36.58 secondes pour une iteration)"
   ]
  },
  {
   "cell_type": "code",
   "execution_count": 479,
   "metadata": {},
   "outputs": [
    {
     "name": "stderr",
     "output_type": "stream",
     "text": [
      "100%|██████████| 3/3 [00:00<00:00, 37.61it/s]\n"
     ]
    },
    {
     "data": {
      "text/plain": [
       "{0.1: 0.867, 0.01: 0.868, 0.001: 0.873}"
      ]
     },
     "execution_count": 479,
     "metadata": {},
     "output_type": "execute_result"
    }
   ],
   "source": [
    "# Nous ferons la distinctions entre les perceptron initialisés avec w à 0 et ceux initialisés avec un w aléatoire\n",
    "Perceptronw0_accuracy_test = {}\n",
    "\n",
    "for i in tqdm(range(len(w0_list))):\n",
    "    a = w0_list[i].accuracy(test_bin, test_bin_label)\n",
    "    Perceptronw0_accuracy_test[w0_list[i].epsilon] = a\n",
    "Perceptronw0_accuracy_test"
   ]
  },
  {
   "cell_type": "code",
   "execution_count": 480,
   "metadata": {},
   "outputs": [
    {
     "name": "stderr",
     "output_type": "stream",
     "text": [
      "100%|██████████| 3/3 [00:00<00:00, 76.33it/s]\n"
     ]
    },
    {
     "data": {
      "text/plain": [
       "{0.1: 0.867, 0.01: 0.87, 0.001: 0.865}"
      ]
     },
     "execution_count": 480,
     "metadata": {},
     "output_type": "execute_result"
    }
   ],
   "source": [
    "Perceptronwr_accuracy_test = {}\n",
    "for i in tqdm(range(len(wr_list))):\n",
    "    a = wr_list[i].accuracy(test_bin, test_bin_label)\n",
    "    Perceptronwr_accuracy_test[wr_list[i].epsilon] = a\n",
    "Perceptronwr_accuracy_test"
   ]
  },
  {
   "cell_type": "markdown",
   "metadata": {},
   "source": [
    "### Tracé de la variation de l'accuracy en fonction de epsilon pour w initialisé à 0"
   ]
  },
  {
   "cell_type": "code",
   "execution_count": 481,
   "metadata": {},
   "outputs": [
    {
     "data": {
      "image/png": "[encoded data removed]",
      "text/plain": [
       "<Figure size 432x288 with 1 Axes>"
      ]
     },
     "metadata": {
      "needs_background": "light"
     },
     "output_type": "display_data"
    }
   ],
   "source": [
    "plt.plot([ w0_list[i].epsilon for i in range(0, len(w0_list))], [ acc for eps,acc in Perceptronw0_accuracy_test.items()])  \n",
    "plt.ylabel('Accuracy')\n",
    "plt.xlabel(\"learning_rate\")\n",
    "plt.title(\"Valeur de l'accuracy selon le learning_rate utilisé.\")\n",
    "plt.show()"
   ]
  },
  {
   "cell_type": "markdown",
   "metadata": {},
   "source": [
    "### Tracé de la variation de l'accuracy en fonction de epsilon pour w initialisé aléatoirement"
   ]
  },
  {
   "cell_type": "code",
   "execution_count": 482,
   "metadata": {},
   "outputs": [
    {
     "data": {
      "image/png": "[encoded data removed]",
      "text/plain": [
       "<Figure size 432x288 with 1 Axes>"
      ]
     },
     "metadata": {
      "needs_background": "light"
     },
     "output_type": "display_data"
    }
   ],
   "source": [
    "plt.plot([ wr_list[i].epsilon for i in range(0, len(wr_list))], [ acc for eps,acc in Perceptronwr_accuracy_test.items()])  \n",
    "plt.ylabel('Accuracy')\n",
    "plt.xlabel(\"learning_rate\")\n",
    "plt.title(\"Valeur de l'accuracy selon le learning_rate utilisé.\")\n",
    "plt.show()"
   ]
  },
  {
   "cell_type": "code",
   "execution_count": 483,
   "metadata": {},
   "outputs": [
    {
     "name": "stdout",
     "output_type": "stream",
     "text": [
      "Le learning nous donnant la meilleure accuracy pour un perceptron avec w initialisé à 0 ( 0.873 ) est :  0.001\n"
     ]
    }
   ],
   "source": [
    "epsilon0_max_test = max(Perceptronw0_accuracy_test, key = Perceptronw0_accuracy_test.get)\n",
    "print(\"Le learning nous donnant la meilleure accuracy pour un perceptron avec w initialisé à 0 (\", Perceptronw0_accuracy_test[epsilon0_max_test] ,\") est : \",epsilon0_max_test)"
   ]
  },
  {
   "cell_type": "code",
   "execution_count": 484,
   "metadata": {},
   "outputs": [
    {
     "name": "stdout",
     "output_type": "stream",
     "text": [
      "Le learning nous donnant la meilleure accuracy pour un perceptron avec w initialisé aléatoirement ( 0.87 ) est :  0.01\n"
     ]
    }
   ],
   "source": [
    "epsilonr_max_test = max(Perceptronwr_accuracy_test, key = Perceptronwr_accuracy_test.get)\n",
    "print(\"Le learning nous donnant la meilleure accuracy pour un perceptron avec w initialisé aléatoirement (\", Perceptronwr_accuracy_test[epsilonr_max_test] ,\") est : \",epsilonr_max_test)"
   ]
  },
  {
   "cell_type": "markdown",
   "metadata": {},
   "source": [
    "### Test de la procédure de validation croisée sur les données de test avec le classifieur Perceptron"
   ]
  },
  {
   "cell_type": "code",
   "execution_count": 485,
   "metadata": {},
   "outputs": [
    {
     "name": "stderr",
     "output_type": "stream",
     "text": [
      "100%|██████████| 50/50 [00:08<00:00,  5.57it/s]\n"
     ]
    }
   ],
   "source": [
    "index = np.random.permutation(len(test_bin[0])) # mélange des index\n",
    "Xb = test_bin[index]\n",
    "Yb = test_bin_label[index]\n",
    "perf_perceptron_test = []\n",
    "niter = 50\n",
    "\n",
    "for i in tqdm(range(niter)):\n",
    "    Xapp,Yapp,Xtest,Ytest = ut.crossval(Xb, Yb, niter, i)\n",
    "    perceptron_cross = classif.ClassifierPerceptron(len(test_bin[0]), 0.01)\n",
    "    perceptron_cross.train(Xapp, Yapp)\n",
    "    perf_perceptron_test.append(perceptron_cross.accuracy(Xtest, Ytest))\n",
    "\n"
   ]
  },
  {
   "cell_type": "code",
   "execution_count": 486,
   "metadata": {},
   "outputs": [
    {
     "name": "stdout",
     "output_type": "stream",
     "text": [
      "Perfs perceptron train [0.9333333333333333, 1.0, 0.9333333333333333, 0.8666666666666667, 0.6666666666666666, 0.9333333333333333, 0.8666666666666667, 0.8666666666666667, 0.9333333333333333, 1.0, 0.9333333333333333, 1.0, 0.8666666666666667, 0.8666666666666667, 0.9333333333333333, 1.0, 0.9333333333333333, 0.7333333333333333, 0.9333333333333333, 0.9333333333333333, 1.0, 0.8, 1.0, 0.9333333333333333, 0.9333333333333333, 0.9333333333333333, 1.0, 1.0, 0.8666666666666667, 0.9333333333333333, 1.0, 0.9333333333333333, 1.0, 0.9333333333333333, 0.8666666666666667, 0.9333333333333333, 0.9333333333333333, 0.9333333333333333, 1.0, 1.0, 0.9333333333333333, 0.9333333333333333, 0.9333333333333333, 1.0, 1.0, 1.0, 0.8666666666666667, 0.8666666666666667, 0.8666666666666667, 0.9333333333333333]\n"
     ]
    },
    {
     "data": {
      "text/plain": [
       "(0.9279999999999998, 0.004771555555555556)"
      ]
     },
     "execution_count": 486,
     "metadata": {},
     "output_type": "execute_result"
    }
   ],
   "source": [
    "print(\"Perfs perceptron train\", perf_perceptron_test)\n",
    "eva.analyse_perfs(perf_perceptron_test)"
   ]
  },
  {
   "cell_type": "markdown",
   "metadata": {},
   "source": [
    "#### *ici en utilisant le perceptron nous obtenons une meilleure variance comparé au classifieur knn sur les mêmes données de test.*"
   ]
  },
  {
   "cell_type": "code",
   "execution_count": 487,
   "metadata": {},
   "outputs": [
    {
     "name": "stdout",
     "output_type": "stream",
     "text": [
      "Variance Knn pour données d'entraînements =  0.00231111111111111\n",
      "Variance Perceptron pour données d'entraînements =  0.004771555555555556\n"
     ]
    }
   ],
   "source": [
    "moy_knn_test, var_knn_test = eva.analyse_perfs(perf_knn_test)\n",
    "moy_perceptron_test, var_perceptron_test = eva.analyse_perfs(perf_perceptron_test)\n",
    "print(\"Variance Knn pour données d'entraînements = \", var_knn_test)\n",
    "print(\"Variance Perceptron pour données d'entraînements = \", var_perceptron_test)"
   ]
  },
  {
   "cell_type": "markdown",
   "metadata": {},
   "source": [
    "### Cependant Nous allons essayer de nous baser sur l'accuracy uniquement afin de départager les deux classifieurs Knn et perceptron sans tenir compte du fait que le classifieurs Knn est plus couteux en ressources et donc en temps..."
   ]
  },
  {
   "cell_type": "markdown",
   "metadata": {},
   "source": [
    "### Nous allons isoler la liste des accuracy obtenues avec chaque perceptrons"
   ]
  },
  {
   "cell_type": "code",
   "execution_count": 488,
   "metadata": {},
   "outputs": [
    {
     "data": {
      "text/plain": [
       "[0.935, 0.943, 0.946, 0.945, 0.944, 0.942, 0.943, 0.942]"
      ]
     },
     "execution_count": 488,
     "metadata": {},
     "output_type": "execute_result"
    }
   ],
   "source": [
    "Knn_all_accu_test = [ acc for k,acc in KNN_accuracy_test.items()]\n",
    "Knn_all_accu_test"
   ]
  },
  {
   "cell_type": "code",
   "execution_count": 489,
   "metadata": {},
   "outputs": [
    {
     "data": {
      "text/plain": [
       "[0.867, 0.87, 0.865, 0.867, 0.868, 0.873]"
      ]
     },
     "execution_count": 489,
     "metadata": {},
     "output_type": "execute_result"
    }
   ],
   "source": [
    "# Nous ne ferons pas la distinction entre perceptron initialisé à 0 et aléatoirement les valeurs étant assez similaires.\n",
    "Perceptron_all_accu_test = [ acc for eps,acc in Perceptronwr_accuracy_test.items()] + [ acc for eps,acc in Perceptronw0_accuracy_test.items()]\n",
    "Perceptron_all_accu_test"
   ]
  },
  {
   "cell_type": "code",
   "execution_count": 490,
   "metadata": {},
   "outputs": [
    {
     "data": {
      "image/png": "[encoded data removed]",
      "text/plain": [
       "<Figure size 432x288 with 1 Axes>"
      ]
     },
     "metadata": {
      "needs_background": "light"
     },
     "output_type": "display_data"
    }
   ],
   "source": [
    "plt.scatter(Knn_all_accu_test, Knn_all_accu_test, label='Knn')\n",
    "plt.scatter(Perceptron_all_accu_test, Perceptron_all_accu_test, label='Perceptron')\n",
    "plt.title(\"Accuracies selon le classifieur utilisé \")\n",
    "plt.ylabel('Accuracy')\n",
    "plt.xlabel('Accuracy')\n",
    "plt.legend(loc='lower right')\n",
    "plt.show()"
   ]
  },
  {
   "cell_type": "markdown",
   "metadata": {},
   "source": [
    "## Au vu des résultats, nous pouvons conclure que le classifieur Knn avec une valeur de k à 5 est le plus \"performant\" pour les problèmes de classifications binaires ( sans tenir compte de la contrainte de temps et de ressources )"
   ]
  },
  {
   "cell_type": "markdown",
   "metadata": {},
   "source": [
    "# Classification des données de la dataframe eval.csv en utilisant le classifieur Knn avec k = 5 que l'on nomme \"bin_best\""
   ]
  },
  {
   "cell_type": "code",
   "execution_count": 564,
   "metadata": {},
   "outputs": [],
   "source": [
    "k_best = k_max_test\n",
    "_,input_dim = np.shape(train_bin)\n",
    "bin_best = classif.ClassifierKNN(input_dim, k_best)\n",
    "bin_best.train(train_bin, train_bin_label)"
   ]
  },
  {
   "cell_type": "markdown",
   "metadata": {},
   "source": [
    "# Chargement du fichiers de donnée eval.csv"
   ]
  },
  {
   "cell_type": "code",
   "execution_count": 596,
   "metadata": {},
   "outputs": [
    {
     "data": {
      "text/html": [
       "<div>\n",
       "<style scoped>\n",
       "    .dataframe tbody tr th:only-of-type {\n",
       "        vertical-align: middle;\n",
       "    }\n",
       "\n",
       "    .dataframe tbody tr th {\n",
       "        vertical-align: top;\n",
       "    }\n",
       "\n",
       "    .dataframe thead th {\n",
       "        text-align: right;\n",
       "    }\n",
       "</style>\n",
       "<table border=\"1\" class=\"dataframe\">\n",
       "  <thead>\n",
       "    <tr style=\"text-align: right;\">\n",
       "      <th></th>\n",
       "      <th>0</th>\n",
       "      <th>1</th>\n",
       "      <th>2</th>\n",
       "      <th>3</th>\n",
       "      <th>4</th>\n",
       "      <th>5</th>\n",
       "      <th>6</th>\n",
       "      <th>7</th>\n",
       "      <th>8</th>\n",
       "      <th>9</th>\n",
       "      <th>...</th>\n",
       "      <th>776</th>\n",
       "      <th>777</th>\n",
       "      <th>778</th>\n",
       "      <th>779</th>\n",
       "      <th>780</th>\n",
       "      <th>781</th>\n",
       "      <th>782</th>\n",
       "      <th>783</th>\n",
       "      <th>784</th>\n",
       "      <th>785</th>\n",
       "    </tr>\n",
       "  </thead>\n",
       "  <tbody>\n",
       "    <tr>\n",
       "      <th>0</th>\n",
       "      <td>90001</td>\n",
       "      <td>0</td>\n",
       "      <td>0</td>\n",
       "      <td>0</td>\n",
       "      <td>0</td>\n",
       "      <td>0</td>\n",
       "      <td>0</td>\n",
       "      <td>0</td>\n",
       "      <td>0</td>\n",
       "      <td>0</td>\n",
       "      <td>...</td>\n",
       "      <td>0</td>\n",
       "      <td>0</td>\n",
       "      <td>0</td>\n",
       "      <td>0</td>\n",
       "      <td>0</td>\n",
       "      <td>0</td>\n",
       "      <td>0</td>\n",
       "      <td>0</td>\n",
       "      <td>0</td>\n",
       "      <td>0</td>\n",
       "    </tr>\n",
       "    <tr>\n",
       "      <th>1</th>\n",
       "      <td>90002</td>\n",
       "      <td>0</td>\n",
       "      <td>0</td>\n",
       "      <td>0</td>\n",
       "      <td>0</td>\n",
       "      <td>0</td>\n",
       "      <td>0</td>\n",
       "      <td>0</td>\n",
       "      <td>0</td>\n",
       "      <td>0</td>\n",
       "      <td>...</td>\n",
       "      <td>0</td>\n",
       "      <td>0</td>\n",
       "      <td>0</td>\n",
       "      <td>0</td>\n",
       "      <td>0</td>\n",
       "      <td>0</td>\n",
       "      <td>0</td>\n",
       "      <td>0</td>\n",
       "      <td>0</td>\n",
       "      <td>0</td>\n",
       "    </tr>\n",
       "    <tr>\n",
       "      <th>2</th>\n",
       "      <td>90003</td>\n",
       "      <td>0</td>\n",
       "      <td>0</td>\n",
       "      <td>0</td>\n",
       "      <td>0</td>\n",
       "      <td>0</td>\n",
       "      <td>0</td>\n",
       "      <td>0</td>\n",
       "      <td>0</td>\n",
       "      <td>0</td>\n",
       "      <td>...</td>\n",
       "      <td>0</td>\n",
       "      <td>0</td>\n",
       "      <td>0</td>\n",
       "      <td>0</td>\n",
       "      <td>0</td>\n",
       "      <td>0</td>\n",
       "      <td>0</td>\n",
       "      <td>0</td>\n",
       "      <td>0</td>\n",
       "      <td>0</td>\n",
       "    </tr>\n",
       "    <tr>\n",
       "      <th>3</th>\n",
       "      <td>90004</td>\n",
       "      <td>0</td>\n",
       "      <td>0</td>\n",
       "      <td>0</td>\n",
       "      <td>0</td>\n",
       "      <td>0</td>\n",
       "      <td>0</td>\n",
       "      <td>0</td>\n",
       "      <td>0</td>\n",
       "      <td>0</td>\n",
       "      <td>...</td>\n",
       "      <td>0</td>\n",
       "      <td>0</td>\n",
       "      <td>0</td>\n",
       "      <td>0</td>\n",
       "      <td>0</td>\n",
       "      <td>0</td>\n",
       "      <td>0</td>\n",
       "      <td>0</td>\n",
       "      <td>0</td>\n",
       "      <td>0</td>\n",
       "    </tr>\n",
       "    <tr>\n",
       "      <th>4</th>\n",
       "      <td>90005</td>\n",
       "      <td>0</td>\n",
       "      <td>0</td>\n",
       "      <td>0</td>\n",
       "      <td>0</td>\n",
       "      <td>0</td>\n",
       "      <td>0</td>\n",
       "      <td>0</td>\n",
       "      <td>0</td>\n",
       "      <td>0</td>\n",
       "      <td>...</td>\n",
       "      <td>0</td>\n",
       "      <td>0</td>\n",
       "      <td>0</td>\n",
       "      <td>0</td>\n",
       "      <td>0</td>\n",
       "      <td>0</td>\n",
       "      <td>0</td>\n",
       "      <td>0</td>\n",
       "      <td>0</td>\n",
       "      <td>0</td>\n",
       "    </tr>\n",
       "    <tr>\n",
       "      <th>...</th>\n",
       "      <td>...</td>\n",
       "      <td>...</td>\n",
       "      <td>...</td>\n",
       "      <td>...</td>\n",
       "      <td>...</td>\n",
       "      <td>...</td>\n",
       "      <td>...</td>\n",
       "      <td>...</td>\n",
       "      <td>...</td>\n",
       "      <td>...</td>\n",
       "      <td>...</td>\n",
       "      <td>...</td>\n",
       "      <td>...</td>\n",
       "      <td>...</td>\n",
       "      <td>...</td>\n",
       "      <td>...</td>\n",
       "      <td>...</td>\n",
       "      <td>...</td>\n",
       "      <td>...</td>\n",
       "      <td>...</td>\n",
       "      <td>...</td>\n",
       "    </tr>\n",
       "    <tr>\n",
       "      <th>995</th>\n",
       "      <td>90996</td>\n",
       "      <td>0</td>\n",
       "      <td>0</td>\n",
       "      <td>0</td>\n",
       "      <td>0</td>\n",
       "      <td>0</td>\n",
       "      <td>0</td>\n",
       "      <td>0</td>\n",
       "      <td>0</td>\n",
       "      <td>0</td>\n",
       "      <td>...</td>\n",
       "      <td>0</td>\n",
       "      <td>0</td>\n",
       "      <td>0</td>\n",
       "      <td>0</td>\n",
       "      <td>0</td>\n",
       "      <td>0</td>\n",
       "      <td>0</td>\n",
       "      <td>0</td>\n",
       "      <td>0</td>\n",
       "      <td>0</td>\n",
       "    </tr>\n",
       "    <tr>\n",
       "      <th>996</th>\n",
       "      <td>90997</td>\n",
       "      <td>0</td>\n",
       "      <td>0</td>\n",
       "      <td>0</td>\n",
       "      <td>0</td>\n",
       "      <td>0</td>\n",
       "      <td>0</td>\n",
       "      <td>0</td>\n",
       "      <td>0</td>\n",
       "      <td>0</td>\n",
       "      <td>...</td>\n",
       "      <td>0</td>\n",
       "      <td>0</td>\n",
       "      <td>0</td>\n",
       "      <td>0</td>\n",
       "      <td>0</td>\n",
       "      <td>0</td>\n",
       "      <td>0</td>\n",
       "      <td>0</td>\n",
       "      <td>0</td>\n",
       "      <td>0</td>\n",
       "    </tr>\n",
       "    <tr>\n",
       "      <th>997</th>\n",
       "      <td>90998</td>\n",
       "      <td>0</td>\n",
       "      <td>0</td>\n",
       "      <td>0</td>\n",
       "      <td>0</td>\n",
       "      <td>0</td>\n",
       "      <td>0</td>\n",
       "      <td>0</td>\n",
       "      <td>0</td>\n",
       "      <td>0</td>\n",
       "      <td>...</td>\n",
       "      <td>0</td>\n",
       "      <td>0</td>\n",
       "      <td>0</td>\n",
       "      <td>0</td>\n",
       "      <td>0</td>\n",
       "      <td>0</td>\n",
       "      <td>0</td>\n",
       "      <td>0</td>\n",
       "      <td>0</td>\n",
       "      <td>0</td>\n",
       "    </tr>\n",
       "    <tr>\n",
       "      <th>998</th>\n",
       "      <td>90999</td>\n",
       "      <td>0</td>\n",
       "      <td>0</td>\n",
       "      <td>0</td>\n",
       "      <td>0</td>\n",
       "      <td>0</td>\n",
       "      <td>0</td>\n",
       "      <td>0</td>\n",
       "      <td>0</td>\n",
       "      <td>0</td>\n",
       "      <td>...</td>\n",
       "      <td>0</td>\n",
       "      <td>0</td>\n",
       "      <td>0</td>\n",
       "      <td>0</td>\n",
       "      <td>0</td>\n",
       "      <td>0</td>\n",
       "      <td>0</td>\n",
       "      <td>0</td>\n",
       "      <td>0</td>\n",
       "      <td>0</td>\n",
       "    </tr>\n",
       "    <tr>\n",
       "      <th>999</th>\n",
       "      <td>91000</td>\n",
       "      <td>0</td>\n",
       "      <td>0</td>\n",
       "      <td>0</td>\n",
       "      <td>0</td>\n",
       "      <td>0</td>\n",
       "      <td>0</td>\n",
       "      <td>0</td>\n",
       "      <td>0</td>\n",
       "      <td>0</td>\n",
       "      <td>...</td>\n",
       "      <td>0</td>\n",
       "      <td>0</td>\n",
       "      <td>0</td>\n",
       "      <td>0</td>\n",
       "      <td>0</td>\n",
       "      <td>0</td>\n",
       "      <td>0</td>\n",
       "      <td>0</td>\n",
       "      <td>0</td>\n",
       "      <td>0</td>\n",
       "    </tr>\n",
       "  </tbody>\n",
       "</table>\n",
       "<p>1000 rows × 786 columns</p>\n",
       "</div>"
      ],
      "text/plain": [
       "       0    1    2    3    4    5    6    7    8    9    ...  776  777  778  \\\n",
       "0    90001    0    0    0    0    0    0    0    0    0  ...    0    0    0   \n",
       "1    90002    0    0    0    0    0    0    0    0    0  ...    0    0    0   \n",
       "2    90003    0    0    0    0    0    0    0    0    0  ...    0    0    0   \n",
       "3    90004    0    0    0    0    0    0    0    0    0  ...    0    0    0   \n",
       "4    90005    0    0    0    0    0    0    0    0    0  ...    0    0    0   \n",
       "..     ...  ...  ...  ...  ...  ...  ...  ...  ...  ...  ...  ...  ...  ...   \n",
       "995  90996    0    0    0    0    0    0    0    0    0  ...    0    0    0   \n",
       "996  90997    0    0    0    0    0    0    0    0    0  ...    0    0    0   \n",
       "997  90998    0    0    0    0    0    0    0    0    0  ...    0    0    0   \n",
       "998  90999    0    0    0    0    0    0    0    0    0  ...    0    0    0   \n",
       "999  91000    0    0    0    0    0    0    0    0    0  ...    0    0    0   \n",
       "\n",
       "     779  780  781  782  783  784  785  \n",
       "0      0    0    0    0    0    0    0  \n",
       "1      0    0    0    0    0    0    0  \n",
       "2      0    0    0    0    0    0    0  \n",
       "3      0    0    0    0    0    0    0  \n",
       "4      0    0    0    0    0    0    0  \n",
       "..   ...  ...  ...  ...  ...  ...  ...  \n",
       "995    0    0    0    0    0    0    0  \n",
       "996    0    0    0    0    0    0    0  \n",
       "997    0    0    0    0    0    0    0  \n",
       "998    0    0    0    0    0    0    0  \n",
       "999    0    0    0    0    0    0    0  \n",
       "\n",
       "[1000 rows x 786 columns]"
      ]
     },
     "execution_count": 596,
     "metadata": {},
     "output_type": "execute_result"
    }
   ],
   "source": [
    "eva_bin_df = pd.read_csv(\"./Bases_IADS/eval.csv\", sep=\";\", header=None)\n",
    "eva_bin_df"
   ]
  },
  {
   "cell_type": "code",
   "execution_count": 608,
   "metadata": {},
   "outputs": [
    {
     "data": {
      "text/plain": [
       "array([90001, 90002, 90003, 90004, 90005, 90006, 90007, 90008, 90009,\n",
       "       90010, 90011, 90012, 90013, 90014, 90015, 90016, 90017, 90018,\n",
       "       90019, 90020, 90021, 90022, 90023, 90024, 90025, 90026, 90027,\n",
       "       90028, 90029, 90030, 90031, 90032, 90033, 90034, 90035, 90036,\n",
       "       90037, 90038, 90039, 90040, 90041, 90042, 90043, 90044, 90045,\n",
       "       90046, 90047, 90048, 90049, 90050, 90051, 90052, 90053, 90054,\n",
       "       90055, 90056, 90057, 90058, 90059, 90060, 90061, 90062, 90063,\n",
       "       90064, 90065, 90066, 90067, 90068, 90069, 90070, 90071, 90072,\n",
       "       90073, 90074, 90075, 90076, 90077, 90078, 90079, 90080, 90081,\n",
       "       90082, 90083, 90084, 90085, 90086, 90087, 90088, 90089, 90090,\n",
       "       90091, 90092, 90093, 90094, 90095, 90096, 90097, 90098, 90099,\n",
       "       90100, 90101, 90102, 90103, 90104, 90105, 90106, 90107, 90108,\n",
       "       90109, 90110, 90111, 90112, 90113, 90114, 90115, 90116, 90117,\n",
       "       90118, 90119, 90120, 90121, 90122, 90123, 90124, 90125, 90126,\n",
       "       90127, 90128, 90129, 90130, 90131, 90132, 90133, 90134, 90135,\n",
       "       90136, 90137, 90138, 90139, 90140, 90141, 90142, 90143, 90144,\n",
       "       90145, 90146, 90147, 90148, 90149, 90150, 90151, 90152, 90153,\n",
       "       90154, 90155, 90156, 90157, 90158, 90159, 90160, 90161, 90162,\n",
       "       90163, 90164, 90165, 90166, 90167, 90168, 90169, 90170, 90171,\n",
       "       90172, 90173, 90174, 90175, 90176, 90177, 90178, 90179, 90180,\n",
       "       90181, 90182, 90183, 90184, 90185, 90186, 90187, 90188, 90189,\n",
       "       90190, 90191, 90192, 90193, 90194, 90195, 90196, 90197, 90198,\n",
       "       90199, 90200, 90201, 90202, 90203, 90204, 90205, 90206, 90207,\n",
       "       90208, 90209, 90210, 90211, 90212, 90213, 90214, 90215, 90216,\n",
       "       90217, 90218, 90219, 90220, 90221, 90222, 90223, 90224, 90225,\n",
       "       90226, 90227, 90228, 90229, 90230, 90231, 90232, 90233, 90234,\n",
       "       90235, 90236, 90237, 90238, 90239, 90240, 90241, 90242, 90243,\n",
       "       90244, 90245, 90246, 90247, 90248, 90249, 90250, 90251, 90252,\n",
       "       90253, 90254, 90255, 90256, 90257, 90258, 90259, 90260, 90261,\n",
       "       90262, 90263, 90264, 90265, 90266, 90267, 90268, 90269, 90270,\n",
       "       90271, 90272, 90273, 90274, 90275, 90276, 90277, 90278, 90279,\n",
       "       90280, 90281, 90282, 90283, 90284, 90285, 90286, 90287, 90288,\n",
       "       90289, 90290, 90291, 90292, 90293, 90294, 90295, 90296, 90297,\n",
       "       90298, 90299, 90300, 90301, 90302, 90303, 90304, 90305, 90306,\n",
       "       90307, 90308, 90309, 90310, 90311, 90312, 90313, 90314, 90315,\n",
       "       90316, 90317, 90318, 90319, 90320, 90321, 90322, 90323, 90324,\n",
       "       90325, 90326, 90327, 90328, 90329, 90330, 90331, 90332, 90333,\n",
       "       90334, 90335, 90336, 90337, 90338, 90339, 90340, 90341, 90342,\n",
       "       90343, 90344, 90345, 90346, 90347, 90348, 90349, 90350, 90351,\n",
       "       90352, 90353, 90354, 90355, 90356, 90357, 90358, 90359, 90360,\n",
       "       90361, 90362, 90363, 90364, 90365, 90366, 90367, 90368, 90369,\n",
       "       90370, 90371, 90372, 90373, 90374, 90375, 90376, 90377, 90378,\n",
       "       90379, 90380, 90381, 90382, 90383, 90384, 90385, 90386, 90387,\n",
       "       90388, 90389, 90390, 90391, 90392, 90393, 90394, 90395, 90396,\n",
       "       90397, 90398, 90399, 90400, 90401, 90402, 90403, 90404, 90405,\n",
       "       90406, 90407, 90408, 90409, 90410, 90411, 90412, 90413, 90414,\n",
       "       90415, 90416, 90417, 90418, 90419, 90420, 90421, 90422, 90423,\n",
       "       90424, 90425, 90426, 90427, 90428, 90429, 90430, 90431, 90432,\n",
       "       90433, 90434, 90435, 90436, 90437, 90438, 90439, 90440, 90441,\n",
       "       90442, 90443, 90444, 90445, 90446, 90447, 90448, 90449, 90450,\n",
       "       90451, 90452, 90453, 90454, 90455, 90456, 90457, 90458, 90459,\n",
       "       90460, 90461, 90462, 90463, 90464, 90465, 90466, 90467, 90468,\n",
       "       90469, 90470, 90471, 90472, 90473, 90474, 90475, 90476, 90477,\n",
       "       90478, 90479, 90480, 90481, 90482, 90483, 90484, 90485, 90486,\n",
       "       90487, 90488, 90489, 90490, 90491, 90492, 90493, 90494, 90495,\n",
       "       90496, 90497, 90498, 90499, 90500, 90501, 90502, 90503, 90504,\n",
       "       90505, 90506, 90507, 90508, 90509, 90510, 90511, 90512, 90513,\n",
       "       90514, 90515, 90516, 90517, 90518, 90519, 90520, 90521, 90522,\n",
       "       90523, 90524, 90525, 90526, 90527, 90528, 90529, 90530, 90531,\n",
       "       90532, 90533, 90534, 90535, 90536, 90537, 90538, 90539, 90540,\n",
       "       90541, 90542, 90543, 90544, 90545, 90546, 90547, 90548, 90549,\n",
       "       90550, 90551, 90552, 90553, 90554, 90555, 90556, 90557, 90558,\n",
       "       90559, 90560, 90561, 90562, 90563, 90564, 90565, 90566, 90567,\n",
       "       90568, 90569, 90570, 90571, 90572, 90573, 90574, 90575, 90576,\n",
       "       90577, 90578, 90579, 90580, 90581, 90582, 90583, 90584, 90585,\n",
       "       90586, 90587, 90588, 90589, 90590, 90591, 90592, 90593, 90594,\n",
       "       90595, 90596, 90597, 90598, 90599, 90600, 90601, 90602, 90603,\n",
       "       90604, 90605, 90606, 90607, 90608, 90609, 90610, 90611, 90612,\n",
       "       90613, 90614, 90615, 90616, 90617, 90618, 90619, 90620, 90621,\n",
       "       90622, 90623, 90624, 90625, 90626, 90627, 90628, 90629, 90630,\n",
       "       90631, 90632, 90633, 90634, 90635, 90636, 90637, 90638, 90639,\n",
       "       90640, 90641, 90642, 90643, 90644, 90645, 90646, 90647, 90648,\n",
       "       90649, 90650, 90651, 90652, 90653, 90654, 90655, 90656, 90657,\n",
       "       90658, 90659, 90660, 90661, 90662, 90663, 90664, 90665, 90666,\n",
       "       90667, 90668, 90669, 90670, 90671, 90672, 90673, 90674, 90675,\n",
       "       90676, 90677, 90678, 90679, 90680, 90681, 90682, 90683, 90684,\n",
       "       90685, 90686, 90687, 90688, 90689, 90690, 90691, 90692, 90693,\n",
       "       90694, 90695, 90696, 90697, 90698, 90699, 90700, 90701, 90702,\n",
       "       90703, 90704, 90705, 90706, 90707, 90708, 90709, 90710, 90711,\n",
       "       90712, 90713, 90714, 90715, 90716, 90717, 90718, 90719, 90720,\n",
       "       90721, 90722, 90723, 90724, 90725, 90726, 90727, 90728, 90729,\n",
       "       90730, 90731, 90732, 90733, 90734, 90735, 90736, 90737, 90738,\n",
       "       90739, 90740, 90741, 90742, 90743, 90744, 90745, 90746, 90747,\n",
       "       90748, 90749, 90750, 90751, 90752, 90753, 90754, 90755, 90756,\n",
       "       90757, 90758, 90759, 90760, 90761, 90762, 90763, 90764, 90765,\n",
       "       90766, 90767, 90768, 90769, 90770, 90771, 90772, 90773, 90774,\n",
       "       90775, 90776, 90777, 90778, 90779, 90780, 90781, 90782, 90783,\n",
       "       90784, 90785, 90786, 90787, 90788, 90789, 90790, 90791, 90792,\n",
       "       90793, 90794, 90795, 90796, 90797, 90798, 90799, 90800, 90801,\n",
       "       90802, 90803, 90804, 90805, 90806, 90807, 90808, 90809, 90810,\n",
       "       90811, 90812, 90813, 90814, 90815, 90816, 90817, 90818, 90819,\n",
       "       90820, 90821, 90822, 90823, 90824, 90825, 90826, 90827, 90828,\n",
       "       90829, 90830, 90831, 90832, 90833, 90834, 90835, 90836, 90837,\n",
       "       90838, 90839, 90840, 90841, 90842, 90843, 90844, 90845, 90846,\n",
       "       90847, 90848, 90849, 90850, 90851, 90852, 90853, 90854, 90855,\n",
       "       90856, 90857, 90858, 90859, 90860, 90861, 90862, 90863, 90864,\n",
       "       90865, 90866, 90867, 90868, 90869, 90870, 90871, 90872, 90873,\n",
       "       90874, 90875, 90876, 90877, 90878, 90879, 90880, 90881, 90882,\n",
       "       90883, 90884, 90885, 90886, 90887, 90888, 90889, 90890, 90891,\n",
       "       90892, 90893, 90894, 90895, 90896, 90897, 90898, 90899, 90900,\n",
       "       90901, 90902, 90903, 90904, 90905, 90906, 90907, 90908, 90909,\n",
       "       90910, 90911, 90912, 90913, 90914, 90915, 90916, 90917, 90918,\n",
       "       90919, 90920, 90921, 90922, 90923, 90924, 90925, 90926, 90927,\n",
       "       90928, 90929, 90930, 90931, 90932, 90933, 90934, 90935, 90936,\n",
       "       90937, 90938, 90939, 90940, 90941, 90942, 90943, 90944, 90945,\n",
       "       90946, 90947, 90948, 90949, 90950, 90951, 90952, 90953, 90954,\n",
       "       90955, 90956, 90957, 90958, 90959, 90960, 90961, 90962, 90963,\n",
       "       90964, 90965, 90966, 90967, 90968, 90969, 90970, 90971, 90972,\n",
       "       90973, 90974, 90975, 90976, 90977, 90978, 90979, 90980, 90981,\n",
       "       90982, 90983, 90984, 90985, 90986, 90987, 90988, 90989, 90990,\n",
       "       90991, 90992, 90993, 90994, 90995, 90996, 90997, 90998, 90999,\n",
       "       91000])"
      ]
     },
     "execution_count": 608,
     "metadata": {},
     "output_type": "execute_result"
    }
   ],
   "source": [
    "eva_bin_id = eva_bin_df[0] # on garde les identifiants de chaque exemple\n",
    "eva_bin_id = np.array(eva_bin_id)\n",
    "eva_bin_id"
   ]
  },
  {
   "cell_type": "markdown",
   "metadata": {},
   "source": [
    "### Passer de dataframe à array"
   ]
  },
  {
   "cell_type": "code",
   "execution_count": 604,
   "metadata": {},
   "outputs": [
    {
     "data": {
      "text/plain": [
       "array([[0, 0, 0, ..., 0, 0, 0],\n",
       "       [0, 0, 0, ..., 0, 0, 0],\n",
       "       [0, 0, 0, ..., 0, 0, 0],\n",
       "       ...,\n",
       "       [0, 0, 0, ..., 0, 0, 0],\n",
       "       [0, 0, 0, ..., 0, 0, 0],\n",
       "       [0, 0, 0, ..., 0, 0, 0]])"
      ]
     },
     "execution_count": 604,
     "metadata": {},
     "output_type": "execute_result"
    }
   ],
   "source": [
    "eva_bin = eva_bin_df.drop(columns=[0, (len(df.columns) - 1)]).to_numpy()\n",
    "eva_bin"
   ]
  },
  {
   "cell_type": "markdown",
   "metadata": {},
   "source": [
    "## Visualisation des données d'eval"
   ]
  },
  {
   "cell_type": "code",
   "execution_count": 605,
   "metadata": {},
   "outputs": [
    {
     "name": "stderr",
     "output_type": "stream",
     "text": [
      "/Users/mlamise/opt/anaconda3/lib/python3.8/site-packages/numpy/core/_asarray.py:171: ComplexWarning: Casting complex values to real discards the imaginary part\n",
      "  return array(a, dtype, copy=False, order=order, subok=True)\n"
     ]
    },
    {
     "data": {
      "text/plain": [
       "Text(0.5, 1.0, 'Visualisation des données contenues dans eval.csv')"
      ]
     },
     "execution_count": 605,
     "metadata": {},
     "output_type": "execute_result"
    },
    {
     "data": {
      "image/png": "[encoded data removed]",
      "text/plain": [
       "<Figure size 432x288 with 1 Axes>"
      ]
     },
     "metadata": {
      "needs_background": "light"
     },
     "output_type": "display_data"
    }
   ],
   "source": [
    "# 1) calcul des vecteurs propres\n",
    "W, V = np.linalg.eig(eva_bin.T @ eva_bin)\n",
    "\n",
    "# 2) tri et sélection des 2 vecteurs associés aux 2 plus grandes valeurs propres \n",
    "i, j = np.argsort(W)[-2:]\n",
    "\n",
    "# 3) affichage (plot) avec un code couleur pour les classes\n",
    "eva_bin_proj_j = np.dot(eva_bin, V.T[j])\n",
    "eva_bin_proj_i = np.dot(eva_bin, V.T[i])\n",
    "plt.scatter(eva_bin_proj_j, eva_bin_proj_i)\n",
    "plt.title(\"Visualisation des données contenues dans eval.csv\")"
   ]
  },
  {
   "cell_type": "markdown",
   "metadata": {},
   "source": [
    "### Prédiction en utilisant le classifieur \"bin_best\""
   ]
  },
  {
   "cell_type": "code",
   "execution_count": 610,
   "metadata": {},
   "outputs": [],
   "source": [
    "label_list = []\n",
    "for x in eva_bin:\n",
    "    label_list.append(bin_best.predict(x))"
   ]
  },
  {
   "cell_type": "code",
   "execution_count": 613,
   "metadata": {},
   "outputs": [
    {
     "data": {
      "text/html": [
       "<div>\n",
       "<style scoped>\n",
       "    .dataframe tbody tr th:only-of-type {\n",
       "        vertical-align: middle;\n",
       "    }\n",
       "\n",
       "    .dataframe tbody tr th {\n",
       "        vertical-align: top;\n",
       "    }\n",
       "\n",
       "    .dataframe thead th {\n",
       "        text-align: right;\n",
       "    }\n",
       "</style>\n",
       "<table border=\"1\" class=\"dataframe\">\n",
       "  <thead>\n",
       "    <tr style=\"text-align: right;\">\n",
       "      <th></th>\n",
       "      <th>IDENTIFIANT;</th>\n",
       "      <th>CLASSE_TROUVEE_POUR_CET_EXEMPLE</th>\n",
       "    </tr>\n",
       "  </thead>\n",
       "  <tbody>\n",
       "    <tr>\n",
       "      <th>0</th>\n",
       "      <td>90001</td>\n",
       "      <td>-1</td>\n",
       "    </tr>\n",
       "    <tr>\n",
       "      <th>1</th>\n",
       "      <td>90002</td>\n",
       "      <td>-1</td>\n",
       "    </tr>\n",
       "    <tr>\n",
       "      <th>2</th>\n",
       "      <td>90003</td>\n",
       "      <td>1</td>\n",
       "    </tr>\n",
       "    <tr>\n",
       "      <th>3</th>\n",
       "      <td>90004</td>\n",
       "      <td>1</td>\n",
       "    </tr>\n",
       "    <tr>\n",
       "      <th>4</th>\n",
       "      <td>90005</td>\n",
       "      <td>1</td>\n",
       "    </tr>\n",
       "    <tr>\n",
       "      <th>...</th>\n",
       "      <td>...</td>\n",
       "      <td>...</td>\n",
       "    </tr>\n",
       "    <tr>\n",
       "      <th>995</th>\n",
       "      <td>90996</td>\n",
       "      <td>1</td>\n",
       "    </tr>\n",
       "    <tr>\n",
       "      <th>996</th>\n",
       "      <td>90997</td>\n",
       "      <td>1</td>\n",
       "    </tr>\n",
       "    <tr>\n",
       "      <th>997</th>\n",
       "      <td>90998</td>\n",
       "      <td>-1</td>\n",
       "    </tr>\n",
       "    <tr>\n",
       "      <th>998</th>\n",
       "      <td>90999</td>\n",
       "      <td>1</td>\n",
       "    </tr>\n",
       "    <tr>\n",
       "      <th>999</th>\n",
       "      <td>91000</td>\n",
       "      <td>1</td>\n",
       "    </tr>\n",
       "  </tbody>\n",
       "</table>\n",
       "<p>1000 rows × 2 columns</p>\n",
       "</div>"
      ],
      "text/plain": [
       "     IDENTIFIANT;  CLASSE_TROUVEE_POUR_CET_EXEMPLE\n",
       "0           90001                               -1\n",
       "1           90002                               -1\n",
       "2           90003                                1\n",
       "3           90004                                1\n",
       "4           90005                                1\n",
       "..            ...                              ...\n",
       "995         90996                                1\n",
       "996         90997                                1\n",
       "997         90998                               -1\n",
       "998         90999                                1\n",
       "999         91000                                1\n",
       "\n",
       "[1000 rows x 2 columns]"
      ]
     },
     "execution_count": 613,
     "metadata": {},
     "output_type": "execute_result"
    }
   ],
   "source": [
    "eva_array = np.column_stack((eva_bin_id,label_list)) \n",
    "eva_df = pd.DataFrame(data = eva_array, columns=['IDENTIFIANT;','CLASSE_TROUVEE_POUR_CET_EXEMPLE'])\n",
    "eva_df.to_csv(\"./eval_binaire_KNN.csv\",sep=\";\",index=False,header=False)\n",
    "eva_df"
   ]
  },
  {
   "cell_type": "code",
   "execution_count": null,
   "metadata": {},
   "outputs": [],
   "source": []
  }
 ],
 "metadata": {
  "kernelspec": {
   "display_name": "Python 3 (ipykernel)",
   "language": "python",
   "name": "python3"
  },
  "language_info": {
   "codemirror_mode": {
    "name": "ipython",
    "version": 3
   },
   "file_extension": ".py",
   "mimetype": "text/x-python",
   "name": "python",
   "nbconvert_exporter": "python",
   "pygments_lexer": "ipython3",
   "version": "3.10.2"
  }
 },
 "nbformat": 4,
 "nbformat_minor": 1
}
